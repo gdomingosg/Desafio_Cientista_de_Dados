{
  "nbformat": 4,
  "nbformat_minor": 0,
  "metadata": {
    "colab": {
      "name": "Previsão da Taxa de Churn ",
      "provenance": [],
      "collapsed_sections": [],
      "authorship_tag": "ABX9TyO0gnlZ0UhBp5TaO4Qb+riA",
      "include_colab_link": true
    },
    "kernelspec": {
      "name": "python3",
      "display_name": "Python 3"
    },
    "language_info": {
      "name": "python"
    }
  },
  "cells": [
    {
      "cell_type": "markdown",
      "metadata": {
        "id": "view-in-github",
        "colab_type": "text"
      },
      "source": [
        "<a href=\"https://colab.research.google.com/github/gdomingosg/Desafio_Cientista_de_Dados/blob/main/Desafio_Lighthouse_Cientista_de_Dados.ipynb\" target=\"_parent\"><img src=\"https://colab.research.google.com/assets/colab-badge.svg\" alt=\"Open In Colab\"/></a>"
      ]
    },
    {
      "cell_type": "markdown",
      "metadata": {
        "id": "qExnZ1FyGHNG"
      },
      "source": [
        "# <center>Desafio Cientista de Dados</center>\n",
        "\n",
        "---\n",
        "\n",
        "\n",
        "\n",
        "\n",
        "\n"
      ]
    },
    {
      "cell_type": "markdown",
      "metadata": {
        "id": "gswdInehUjoA"
      },
      "source": [
        "## Desafio\n",
        "\n",
        "O objetivo é prever o churn (abandono de clientes) de um banco de dados fictício de uma instituição financeira. Para isso são fornecidos dois datasets: um dataset chamado Abandono_clientes composto por 10000 linhas e 13 colunas de informação (features), sendo uma coluna “Exited” composta por dados binários: 1 se o cliente abandonou o banco, 0 se não.  O segundo dataset possui 1000 linhas e 12 colunas e não possui a coluna “Exited”. **Seu objetivo é prever essa coluna a partir dos dados enviados e nos enviar para avaliação dos resultados.**"
      ]
    },
    {
      "cell_type": "markdown",
      "metadata": {
        "id": "aa2u-NyZ1OMi"
      },
      "source": [
        "### Transformação, limpeza e identificação dos dados"
      ]
    },
    {
      "cell_type": "code",
      "metadata": {
        "id": "h3VgGRaw4jlZ"
      },
      "source": [
        "!pip install scikit-plot -q"
      ],
      "execution_count": 2,
      "outputs": []
    },
    {
      "cell_type": "code",
      "metadata": {
        "colab": {
          "base_uri": "https://localhost:8080/"
        },
        "id": "pvZ-W_MCw_RR",
        "outputId": "da445bca-309c-467c-e3b8-65c5e0049547"
      },
      "source": [
        "!pip install scikit-optimize -q"
      ],
      "execution_count": 3,
      "outputs": [
        {
          "output_type": "stream",
          "name": "stdout",
          "text": [
            "\u001b[?25l\r\u001b[K     |███▎                            | 10 kB 15.1 MB/s eta 0:00:01\r\u001b[K     |██████▌                         | 20 kB 17.8 MB/s eta 0:00:01\r\u001b[K     |█████████▉                      | 30 kB 11.9 MB/s eta 0:00:01\r\u001b[K     |█████████████                   | 40 kB 10.2 MB/s eta 0:00:01\r\u001b[K     |████████████████▍               | 51 kB 5.2 MB/s eta 0:00:01\r\u001b[K     |███████████████████▋            | 61 kB 4.8 MB/s eta 0:00:01\r\u001b[K     |██████████████████████▉         | 71 kB 5.3 MB/s eta 0:00:01\r\u001b[K     |██████████████████████████▏     | 81 kB 6.0 MB/s eta 0:00:01\r\u001b[K     |█████████████████████████████▍  | 92 kB 6.3 MB/s eta 0:00:01\r\u001b[K     |████████████████████████████████| 100 kB 3.9 MB/s \n",
            "\u001b[?25h"
          ]
        }
      ]
    },
    {
      "cell_type": "code",
      "metadata": {
        "colab": {
          "base_uri": "https://localhost:8080/",
          "height": 206
        },
        "id": "WR9KtqkeLBUB",
        "outputId": "680e8d7b-c05e-46b3-a827-dcf14c143945"
      },
      "source": [
        "import pandas as pd\n",
        "import matplotlib.pyplot as plt\n",
        "from sklearn.preprocessing import MinMaxScaler\n",
        "import scikitplot as skplt\n",
        "\n",
        "# Importando os dados do repositório do github\n",
        "url_clientes = 'https://raw.githubusercontent.com/gdomingosg/Desafio_Cientista_de_Dados/main/Abandono_clientes.csv'\n",
        "df = pd.read_csv(url_clientes)\n",
        "\n",
        "# Visualizar as 5 primeiras linhas da tabela de dados\n",
        "df.head()"
      ],
      "execution_count": 4,
      "outputs": [
        {
          "output_type": "execute_result",
          "data": {
            "text/html": [
              "<div>\n",
              "<style scoped>\n",
              "    .dataframe tbody tr th:only-of-type {\n",
              "        vertical-align: middle;\n",
              "    }\n",
              "\n",
              "    .dataframe tbody tr th {\n",
              "        vertical-align: top;\n",
              "    }\n",
              "\n",
              "    .dataframe thead th {\n",
              "        text-align: right;\n",
              "    }\n",
              "</style>\n",
              "<table border=\"1\" class=\"dataframe\">\n",
              "  <thead>\n",
              "    <tr style=\"text-align: right;\">\n",
              "      <th></th>\n",
              "      <th>RowNumber</th>\n",
              "      <th>CustomerId</th>\n",
              "      <th>Surname</th>\n",
              "      <th>CreditScore</th>\n",
              "      <th>Geography</th>\n",
              "      <th>Gender</th>\n",
              "      <th>Age</th>\n",
              "      <th>Tenure</th>\n",
              "      <th>Balance</th>\n",
              "      <th>NumOfProducts</th>\n",
              "      <th>HasCrCard</th>\n",
              "      <th>IsActiveMember</th>\n",
              "      <th>EstimatedSalary</th>\n",
              "      <th>Exited</th>\n",
              "    </tr>\n",
              "  </thead>\n",
              "  <tbody>\n",
              "    <tr>\n",
              "      <th>0</th>\n",
              "      <td>1</td>\n",
              "      <td>15634602</td>\n",
              "      <td>Hargrave</td>\n",
              "      <td>619</td>\n",
              "      <td>France</td>\n",
              "      <td>Female</td>\n",
              "      <td>42</td>\n",
              "      <td>2</td>\n",
              "      <td>0.00</td>\n",
              "      <td>1</td>\n",
              "      <td>1</td>\n",
              "      <td>1</td>\n",
              "      <td>101348.88</td>\n",
              "      <td>1</td>\n",
              "    </tr>\n",
              "    <tr>\n",
              "      <th>1</th>\n",
              "      <td>2</td>\n",
              "      <td>15647311</td>\n",
              "      <td>Hill</td>\n",
              "      <td>608</td>\n",
              "      <td>Spain</td>\n",
              "      <td>Female</td>\n",
              "      <td>41</td>\n",
              "      <td>1</td>\n",
              "      <td>83807.86</td>\n",
              "      <td>1</td>\n",
              "      <td>0</td>\n",
              "      <td>1</td>\n",
              "      <td>112542.58</td>\n",
              "      <td>0</td>\n",
              "    </tr>\n",
              "    <tr>\n",
              "      <th>2</th>\n",
              "      <td>3</td>\n",
              "      <td>15619304</td>\n",
              "      <td>Onio</td>\n",
              "      <td>502</td>\n",
              "      <td>France</td>\n",
              "      <td>Female</td>\n",
              "      <td>42</td>\n",
              "      <td>8</td>\n",
              "      <td>159660.80</td>\n",
              "      <td>3</td>\n",
              "      <td>1</td>\n",
              "      <td>0</td>\n",
              "      <td>113931.57</td>\n",
              "      <td>1</td>\n",
              "    </tr>\n",
              "    <tr>\n",
              "      <th>3</th>\n",
              "      <td>4</td>\n",
              "      <td>15701354</td>\n",
              "      <td>Boni</td>\n",
              "      <td>699</td>\n",
              "      <td>France</td>\n",
              "      <td>Female</td>\n",
              "      <td>39</td>\n",
              "      <td>1</td>\n",
              "      <td>0.00</td>\n",
              "      <td>2</td>\n",
              "      <td>0</td>\n",
              "      <td>0</td>\n",
              "      <td>93826.63</td>\n",
              "      <td>0</td>\n",
              "    </tr>\n",
              "    <tr>\n",
              "      <th>4</th>\n",
              "      <td>5</td>\n",
              "      <td>15737888</td>\n",
              "      <td>Mitchell</td>\n",
              "      <td>850</td>\n",
              "      <td>Spain</td>\n",
              "      <td>Female</td>\n",
              "      <td>43</td>\n",
              "      <td>2</td>\n",
              "      <td>125510.82</td>\n",
              "      <td>1</td>\n",
              "      <td>1</td>\n",
              "      <td>1</td>\n",
              "      <td>79084.10</td>\n",
              "      <td>0</td>\n",
              "    </tr>\n",
              "  </tbody>\n",
              "</table>\n",
              "</div>"
            ],
            "text/plain": [
              "   RowNumber  CustomerId   Surname  ...  IsActiveMember EstimatedSalary Exited\n",
              "0          1    15634602  Hargrave  ...               1       101348.88      1\n",
              "1          2    15647311      Hill  ...               1       112542.58      0\n",
              "2          3    15619304      Onio  ...               0       113931.57      1\n",
              "3          4    15701354      Boni  ...               0        93826.63      0\n",
              "4          5    15737888  Mitchell  ...               1        79084.10      0\n",
              "\n",
              "[5 rows x 14 columns]"
            ]
          },
          "metadata": {},
          "execution_count": 4
        }
      ]
    },
    {
      "cell_type": "markdown",
      "metadata": {
        "id": "v3vEBPluP0Ia"
      },
      "source": [
        "Inicialmente vamos identificar o tipo de dado de cada coluna e verificar se bate com as informações que temos acima."
      ]
    },
    {
      "cell_type": "code",
      "metadata": {
        "colab": {
          "base_uri": "https://localhost:8080/"
        },
        "id": "kyZ7DKkZOHVl",
        "outputId": "dd98dc70-e553-4b57-d6b4-0b918744655d"
      },
      "source": [
        "df.info()"
      ],
      "execution_count": 5,
      "outputs": [
        {
          "output_type": "stream",
          "name": "stdout",
          "text": [
            "<class 'pandas.core.frame.DataFrame'>\n",
            "RangeIndex: 10000 entries, 0 to 9999\n",
            "Data columns (total 14 columns):\n",
            " #   Column           Non-Null Count  Dtype  \n",
            "---  ------           --------------  -----  \n",
            " 0   RowNumber        10000 non-null  int64  \n",
            " 1   CustomerId       10000 non-null  int64  \n",
            " 2   Surname          10000 non-null  object \n",
            " 3   CreditScore      10000 non-null  int64  \n",
            " 4   Geography        10000 non-null  object \n",
            " 5   Gender           10000 non-null  object \n",
            " 6   Age              10000 non-null  int64  \n",
            " 7   Tenure           10000 non-null  int64  \n",
            " 8   Balance          10000 non-null  float64\n",
            " 9   NumOfProducts    10000 non-null  int64  \n",
            " 10  HasCrCard        10000 non-null  int64  \n",
            " 11  IsActiveMember   10000 non-null  int64  \n",
            " 12  EstimatedSalary  10000 non-null  float64\n",
            " 13  Exited           10000 non-null  int64  \n",
            "dtypes: float64(2), int64(9), object(3)\n",
            "memory usage: 1.1+ MB\n"
          ]
        }
      ]
    },
    {
      "cell_type": "markdown",
      "metadata": {
        "id": "U0J4t1u7QQi4"
      },
      "source": [
        "De inicio é identificado que o número de colunas da tabela está diferente do indicado no desafio, pois temos a coluna RowNumber. Todas as colunas parecem estar com o tipo de dado correto, e parecem possuir as 10000 entradas, conforme especificado no desafio, mas vamos verificar se existe algum dado invalido nas colunas.\n"
      ]
    },
    {
      "cell_type": "code",
      "metadata": {
        "colab": {
          "base_uri": "https://localhost:8080/",
          "height": 238
        },
        "id": "6wgwDd3yS2WR",
        "outputId": "05604170-212b-410c-e08c-03dd78df7ad6"
      },
      "source": [
        "# Atribuir a coluna RowNumber com index\n",
        "df.set_index('RowNumber', inplace=True)\n",
        "\n",
        "df.head()"
      ],
      "execution_count": 6,
      "outputs": [
        {
          "output_type": "execute_result",
          "data": {
            "text/html": [
              "<div>\n",
              "<style scoped>\n",
              "    .dataframe tbody tr th:only-of-type {\n",
              "        vertical-align: middle;\n",
              "    }\n",
              "\n",
              "    .dataframe tbody tr th {\n",
              "        vertical-align: top;\n",
              "    }\n",
              "\n",
              "    .dataframe thead th {\n",
              "        text-align: right;\n",
              "    }\n",
              "</style>\n",
              "<table border=\"1\" class=\"dataframe\">\n",
              "  <thead>\n",
              "    <tr style=\"text-align: right;\">\n",
              "      <th></th>\n",
              "      <th>CustomerId</th>\n",
              "      <th>Surname</th>\n",
              "      <th>CreditScore</th>\n",
              "      <th>Geography</th>\n",
              "      <th>Gender</th>\n",
              "      <th>Age</th>\n",
              "      <th>Tenure</th>\n",
              "      <th>Balance</th>\n",
              "      <th>NumOfProducts</th>\n",
              "      <th>HasCrCard</th>\n",
              "      <th>IsActiveMember</th>\n",
              "      <th>EstimatedSalary</th>\n",
              "      <th>Exited</th>\n",
              "    </tr>\n",
              "    <tr>\n",
              "      <th>RowNumber</th>\n",
              "      <th></th>\n",
              "      <th></th>\n",
              "      <th></th>\n",
              "      <th></th>\n",
              "      <th></th>\n",
              "      <th></th>\n",
              "      <th></th>\n",
              "      <th></th>\n",
              "      <th></th>\n",
              "      <th></th>\n",
              "      <th></th>\n",
              "      <th></th>\n",
              "      <th></th>\n",
              "    </tr>\n",
              "  </thead>\n",
              "  <tbody>\n",
              "    <tr>\n",
              "      <th>1</th>\n",
              "      <td>15634602</td>\n",
              "      <td>Hargrave</td>\n",
              "      <td>619</td>\n",
              "      <td>France</td>\n",
              "      <td>Female</td>\n",
              "      <td>42</td>\n",
              "      <td>2</td>\n",
              "      <td>0.00</td>\n",
              "      <td>1</td>\n",
              "      <td>1</td>\n",
              "      <td>1</td>\n",
              "      <td>101348.88</td>\n",
              "      <td>1</td>\n",
              "    </tr>\n",
              "    <tr>\n",
              "      <th>2</th>\n",
              "      <td>15647311</td>\n",
              "      <td>Hill</td>\n",
              "      <td>608</td>\n",
              "      <td>Spain</td>\n",
              "      <td>Female</td>\n",
              "      <td>41</td>\n",
              "      <td>1</td>\n",
              "      <td>83807.86</td>\n",
              "      <td>1</td>\n",
              "      <td>0</td>\n",
              "      <td>1</td>\n",
              "      <td>112542.58</td>\n",
              "      <td>0</td>\n",
              "    </tr>\n",
              "    <tr>\n",
              "      <th>3</th>\n",
              "      <td>15619304</td>\n",
              "      <td>Onio</td>\n",
              "      <td>502</td>\n",
              "      <td>France</td>\n",
              "      <td>Female</td>\n",
              "      <td>42</td>\n",
              "      <td>8</td>\n",
              "      <td>159660.80</td>\n",
              "      <td>3</td>\n",
              "      <td>1</td>\n",
              "      <td>0</td>\n",
              "      <td>113931.57</td>\n",
              "      <td>1</td>\n",
              "    </tr>\n",
              "    <tr>\n",
              "      <th>4</th>\n",
              "      <td>15701354</td>\n",
              "      <td>Boni</td>\n",
              "      <td>699</td>\n",
              "      <td>France</td>\n",
              "      <td>Female</td>\n",
              "      <td>39</td>\n",
              "      <td>1</td>\n",
              "      <td>0.00</td>\n",
              "      <td>2</td>\n",
              "      <td>0</td>\n",
              "      <td>0</td>\n",
              "      <td>93826.63</td>\n",
              "      <td>0</td>\n",
              "    </tr>\n",
              "    <tr>\n",
              "      <th>5</th>\n",
              "      <td>15737888</td>\n",
              "      <td>Mitchell</td>\n",
              "      <td>850</td>\n",
              "      <td>Spain</td>\n",
              "      <td>Female</td>\n",
              "      <td>43</td>\n",
              "      <td>2</td>\n",
              "      <td>125510.82</td>\n",
              "      <td>1</td>\n",
              "      <td>1</td>\n",
              "      <td>1</td>\n",
              "      <td>79084.10</td>\n",
              "      <td>0</td>\n",
              "    </tr>\n",
              "  </tbody>\n",
              "</table>\n",
              "</div>"
            ],
            "text/plain": [
              "           CustomerId   Surname  ...  EstimatedSalary Exited\n",
              "RowNumber                        ...                        \n",
              "1            15634602  Hargrave  ...        101348.88      1\n",
              "2            15647311      Hill  ...        112542.58      0\n",
              "3            15619304      Onio  ...        113931.57      1\n",
              "4            15701354      Boni  ...         93826.63      0\n",
              "5            15737888  Mitchell  ...         79084.10      0\n",
              "\n",
              "[5 rows x 13 columns]"
            ]
          },
          "metadata": {},
          "execution_count": 6
        }
      ]
    },
    {
      "cell_type": "code",
      "metadata": {
        "colab": {
          "base_uri": "https://localhost:8080/"
        },
        "id": "t0oALaa9gZeU",
        "outputId": "b4a58a84-1436-4bfa-c29d-865d50b13795"
      },
      "source": [
        "df.isnull().sum()"
      ],
      "execution_count": 7,
      "outputs": [
        {
          "output_type": "execute_result",
          "data": {
            "text/plain": [
              "CustomerId         0\n",
              "Surname            0\n",
              "CreditScore        0\n",
              "Geography          0\n",
              "Gender             0\n",
              "Age                0\n",
              "Tenure             0\n",
              "Balance            0\n",
              "NumOfProducts      0\n",
              "HasCrCard          0\n",
              "IsActiveMember     0\n",
              "EstimatedSalary    0\n",
              "Exited             0\n",
              "dtype: int64"
            ]
          },
          "metadata": {},
          "execution_count": 7
        }
      ]
    },
    {
      "cell_type": "markdown",
      "metadata": {
        "id": "B7RgxTV-VFrl"
      },
      "source": [
        "Como todas as colunas retornaram 0, indicando que nenhuma variável apresenta dados faltantes.\n",
        "\n",
        "Agora vamos verificar a quantidade de valores unicos por colunas, pra entender se as colunas HasCrCard, IsActiveMember e Exited possuem apenas os valores 0 e 1 para que as mesmas sejam tratadas como boolean."
      ]
    },
    {
      "cell_type": "code",
      "metadata": {
        "colab": {
          "base_uri": "https://localhost:8080/"
        },
        "id": "nqPyPoeMVBR7",
        "outputId": "46cf017a-8f2b-415c-f153-9843ef7567df"
      },
      "source": [
        "# Verificando a quantidade de valores únicos por coluna\n",
        "for col in df.columns:\n",
        "  print(f'{col}: {df[col].nunique()}')"
      ],
      "execution_count": 8,
      "outputs": [
        {
          "output_type": "stream",
          "name": "stdout",
          "text": [
            "CustomerId: 10000\n",
            "Surname: 2932\n",
            "CreditScore: 460\n",
            "Geography: 3\n",
            "Gender: 2\n",
            "Age: 70\n",
            "Tenure: 11\n",
            "Balance: 6382\n",
            "NumOfProducts: 4\n",
            "HasCrCard: 2\n",
            "IsActiveMember: 2\n",
            "EstimatedSalary: 9999\n",
            "Exited: 2\n"
          ]
        }
      ]
    },
    {
      "cell_type": "markdown",
      "metadata": {
        "id": "7o1SVoh1YFiB"
      },
      "source": [
        "Conforme esperado, as colunas  HasCrCard, IsActiveMember e Exited podem ser tratadas como bool.\n",
        "Além disso, a coluna CustomerId possui 10000 valores diferentes, indicando que não existem dados repetidos de clientes.\n",
        "\n",
        "Como não temos mais interesse em quem é o cliente, a coluna CustomerId e Surname podem ser exluidas\n"
      ]
    },
    {
      "cell_type": "code",
      "metadata": {
        "id": "Oa-nByHZk7Ka"
      },
      "source": [
        "df.drop(columns=['CustomerId', 'Surname'], inplace=True)"
      ],
      "execution_count": 9,
      "outputs": []
    },
    {
      "cell_type": "code",
      "metadata": {
        "colab": {
          "base_uri": "https://localhost:8080/",
          "height": 238
        },
        "id": "dsYQs1OAmZyA",
        "outputId": "1cb26a2e-2efa-4139-9fcf-85cee5230cd3"
      },
      "source": [
        "df.head()"
      ],
      "execution_count": 10,
      "outputs": [
        {
          "output_type": "execute_result",
          "data": {
            "text/html": [
              "<div>\n",
              "<style scoped>\n",
              "    .dataframe tbody tr th:only-of-type {\n",
              "        vertical-align: middle;\n",
              "    }\n",
              "\n",
              "    .dataframe tbody tr th {\n",
              "        vertical-align: top;\n",
              "    }\n",
              "\n",
              "    .dataframe thead th {\n",
              "        text-align: right;\n",
              "    }\n",
              "</style>\n",
              "<table border=\"1\" class=\"dataframe\">\n",
              "  <thead>\n",
              "    <tr style=\"text-align: right;\">\n",
              "      <th></th>\n",
              "      <th>CreditScore</th>\n",
              "      <th>Geography</th>\n",
              "      <th>Gender</th>\n",
              "      <th>Age</th>\n",
              "      <th>Tenure</th>\n",
              "      <th>Balance</th>\n",
              "      <th>NumOfProducts</th>\n",
              "      <th>HasCrCard</th>\n",
              "      <th>IsActiveMember</th>\n",
              "      <th>EstimatedSalary</th>\n",
              "      <th>Exited</th>\n",
              "    </tr>\n",
              "    <tr>\n",
              "      <th>RowNumber</th>\n",
              "      <th></th>\n",
              "      <th></th>\n",
              "      <th></th>\n",
              "      <th></th>\n",
              "      <th></th>\n",
              "      <th></th>\n",
              "      <th></th>\n",
              "      <th></th>\n",
              "      <th></th>\n",
              "      <th></th>\n",
              "      <th></th>\n",
              "    </tr>\n",
              "  </thead>\n",
              "  <tbody>\n",
              "    <tr>\n",
              "      <th>1</th>\n",
              "      <td>619</td>\n",
              "      <td>France</td>\n",
              "      <td>Female</td>\n",
              "      <td>42</td>\n",
              "      <td>2</td>\n",
              "      <td>0.00</td>\n",
              "      <td>1</td>\n",
              "      <td>1</td>\n",
              "      <td>1</td>\n",
              "      <td>101348.88</td>\n",
              "      <td>1</td>\n",
              "    </tr>\n",
              "    <tr>\n",
              "      <th>2</th>\n",
              "      <td>608</td>\n",
              "      <td>Spain</td>\n",
              "      <td>Female</td>\n",
              "      <td>41</td>\n",
              "      <td>1</td>\n",
              "      <td>83807.86</td>\n",
              "      <td>1</td>\n",
              "      <td>0</td>\n",
              "      <td>1</td>\n",
              "      <td>112542.58</td>\n",
              "      <td>0</td>\n",
              "    </tr>\n",
              "    <tr>\n",
              "      <th>3</th>\n",
              "      <td>502</td>\n",
              "      <td>France</td>\n",
              "      <td>Female</td>\n",
              "      <td>42</td>\n",
              "      <td>8</td>\n",
              "      <td>159660.80</td>\n",
              "      <td>3</td>\n",
              "      <td>1</td>\n",
              "      <td>0</td>\n",
              "      <td>113931.57</td>\n",
              "      <td>1</td>\n",
              "    </tr>\n",
              "    <tr>\n",
              "      <th>4</th>\n",
              "      <td>699</td>\n",
              "      <td>France</td>\n",
              "      <td>Female</td>\n",
              "      <td>39</td>\n",
              "      <td>1</td>\n",
              "      <td>0.00</td>\n",
              "      <td>2</td>\n",
              "      <td>0</td>\n",
              "      <td>0</td>\n",
              "      <td>93826.63</td>\n",
              "      <td>0</td>\n",
              "    </tr>\n",
              "    <tr>\n",
              "      <th>5</th>\n",
              "      <td>850</td>\n",
              "      <td>Spain</td>\n",
              "      <td>Female</td>\n",
              "      <td>43</td>\n",
              "      <td>2</td>\n",
              "      <td>125510.82</td>\n",
              "      <td>1</td>\n",
              "      <td>1</td>\n",
              "      <td>1</td>\n",
              "      <td>79084.10</td>\n",
              "      <td>0</td>\n",
              "    </tr>\n",
              "  </tbody>\n",
              "</table>\n",
              "</div>"
            ],
            "text/plain": [
              "           CreditScore Geography  ... EstimatedSalary  Exited\n",
              "RowNumber                         ...                        \n",
              "1                  619    France  ...       101348.88       1\n",
              "2                  608     Spain  ...       112542.58       0\n",
              "3                  502    France  ...       113931.57       1\n",
              "4                  699    France  ...        93826.63       0\n",
              "5                  850     Spain  ...        79084.10       0\n",
              "\n",
              "[5 rows x 11 columns]"
            ]
          },
          "metadata": {},
          "execution_count": 10
        }
      ]
    },
    {
      "cell_type": "markdown",
      "metadata": {
        "id": "XDehfRsuhg0m"
      },
      "source": [
        "---\n",
        "#Entregas\n",
        "\n",
        "A partir de agora podemos começar a reponder a pergunta número um da entrega:\n"
      ]
    },
    {
      "cell_type": "markdown",
      "metadata": {
        "id": "IY3_tUCqUOSP"
      },
      "source": [
        "## Pergunta 1\n",
        "\n",
        "* Descreva graficamente os dados disponíveis;\n",
        "* Apresente as principais estatísticas descritivas;\n",
        "* *Comente* o porquê da escolha dessas estatísticas."
      ]
    },
    {
      "cell_type": "markdown",
      "metadata": {
        "id": "uYqpGgQuUO1P"
      },
      "source": [
        "Inicialmente utilizaremos o método `describe()` para gerar um resumo estatistico das colunas numéricas, contudo, vamos remover as colunas HasCrCard, IsActiveMember e Exited, pois são valores booleanos."
      ]
    },
    {
      "cell_type": "code",
      "metadata": {
        "colab": {
          "base_uri": "https://localhost:8080/",
          "height": 300
        },
        "id": "SYd029h0kPLL",
        "outputId": "de11c2f7-21c9-4f01-bbd4-44ed16bd4591"
      },
      "source": [
        "col_excluir = ['HasCrCard', 'IsActiveMember', 'Exited']\n",
        "df.drop(col_excluir, axis=1).describe().round(1)"
      ],
      "execution_count": 11,
      "outputs": [
        {
          "output_type": "execute_result",
          "data": {
            "text/html": [
              "<div>\n",
              "<style scoped>\n",
              "    .dataframe tbody tr th:only-of-type {\n",
              "        vertical-align: middle;\n",
              "    }\n",
              "\n",
              "    .dataframe tbody tr th {\n",
              "        vertical-align: top;\n",
              "    }\n",
              "\n",
              "    .dataframe thead th {\n",
              "        text-align: right;\n",
              "    }\n",
              "</style>\n",
              "<table border=\"1\" class=\"dataframe\">\n",
              "  <thead>\n",
              "    <tr style=\"text-align: right;\">\n",
              "      <th></th>\n",
              "      <th>CreditScore</th>\n",
              "      <th>Age</th>\n",
              "      <th>Tenure</th>\n",
              "      <th>Balance</th>\n",
              "      <th>NumOfProducts</th>\n",
              "      <th>EstimatedSalary</th>\n",
              "    </tr>\n",
              "  </thead>\n",
              "  <tbody>\n",
              "    <tr>\n",
              "      <th>count</th>\n",
              "      <td>10000.0</td>\n",
              "      <td>10000.0</td>\n",
              "      <td>10000.0</td>\n",
              "      <td>10000.0</td>\n",
              "      <td>10000.0</td>\n",
              "      <td>10000.0</td>\n",
              "    </tr>\n",
              "    <tr>\n",
              "      <th>mean</th>\n",
              "      <td>650.5</td>\n",
              "      <td>38.9</td>\n",
              "      <td>5.0</td>\n",
              "      <td>76485.9</td>\n",
              "      <td>1.5</td>\n",
              "      <td>100090.2</td>\n",
              "    </tr>\n",
              "    <tr>\n",
              "      <th>std</th>\n",
              "      <td>96.7</td>\n",
              "      <td>10.5</td>\n",
              "      <td>2.9</td>\n",
              "      <td>62397.4</td>\n",
              "      <td>0.6</td>\n",
              "      <td>57510.5</td>\n",
              "    </tr>\n",
              "    <tr>\n",
              "      <th>min</th>\n",
              "      <td>350.0</td>\n",
              "      <td>18.0</td>\n",
              "      <td>0.0</td>\n",
              "      <td>0.0</td>\n",
              "      <td>1.0</td>\n",
              "      <td>11.6</td>\n",
              "    </tr>\n",
              "    <tr>\n",
              "      <th>25%</th>\n",
              "      <td>584.0</td>\n",
              "      <td>32.0</td>\n",
              "      <td>3.0</td>\n",
              "      <td>0.0</td>\n",
              "      <td>1.0</td>\n",
              "      <td>51002.1</td>\n",
              "    </tr>\n",
              "    <tr>\n",
              "      <th>50%</th>\n",
              "      <td>652.0</td>\n",
              "      <td>37.0</td>\n",
              "      <td>5.0</td>\n",
              "      <td>97198.5</td>\n",
              "      <td>1.0</td>\n",
              "      <td>100193.9</td>\n",
              "    </tr>\n",
              "    <tr>\n",
              "      <th>75%</th>\n",
              "      <td>718.0</td>\n",
              "      <td>44.0</td>\n",
              "      <td>7.0</td>\n",
              "      <td>127644.2</td>\n",
              "      <td>2.0</td>\n",
              "      <td>149388.2</td>\n",
              "    </tr>\n",
              "    <tr>\n",
              "      <th>max</th>\n",
              "      <td>850.0</td>\n",
              "      <td>92.0</td>\n",
              "      <td>10.0</td>\n",
              "      <td>250898.1</td>\n",
              "      <td>4.0</td>\n",
              "      <td>199992.5</td>\n",
              "    </tr>\n",
              "  </tbody>\n",
              "</table>\n",
              "</div>"
            ],
            "text/plain": [
              "       CreditScore      Age   Tenure   Balance  NumOfProducts  EstimatedSalary\n",
              "count      10000.0  10000.0  10000.0   10000.0        10000.0          10000.0\n",
              "mean         650.5     38.9      5.0   76485.9            1.5         100090.2\n",
              "std           96.7     10.5      2.9   62397.4            0.6          57510.5\n",
              "min          350.0     18.0      0.0       0.0            1.0             11.6\n",
              "25%          584.0     32.0      3.0       0.0            1.0          51002.1\n",
              "50%          652.0     37.0      5.0   97198.5            1.0         100193.9\n",
              "75%          718.0     44.0      7.0  127644.2            2.0         149388.2\n",
              "max          850.0     92.0     10.0  250898.1            4.0         199992.5"
            ]
          },
          "metadata": {},
          "execution_count": 11
        }
      ]
    },
    {
      "cell_type": "markdown",
      "metadata": {
        "id": "NBs1tIxgk7oT"
      },
      "source": [
        "também podemos verificar a taxa de churn dos clientes e o total de membros ativos."
      ]
    },
    {
      "cell_type": "code",
      "metadata": {
        "colab": {
          "base_uri": "https://localhost:8080/"
        },
        "id": "zXVeM_FMZL2E",
        "outputId": "d5ad6aa6-85e9-4e4e-b8fb-c9395f26f3d8"
      },
      "source": [
        "total_linhas = df.shape[0]\n",
        "\n",
        "churn = df[df['Exited'] == 1].shape[0]\n",
        "total_churn = round((churn/total_linhas)*100, 1)\n",
        "\n",
        "active_member = df[df['IsActiveMember'] == 1].shape[0]\n",
        "total_active = round((active_member/total_linhas)*100, 1)\n",
        "\n",
        "print(f'Total de Churn: {total_churn}%')\n",
        "print(f'Total de membros ativos: {total_active}%')"
      ],
      "execution_count": 12,
      "outputs": [
        {
          "output_type": "stream",
          "name": "stdout",
          "text": [
            "Total de Churn: 20.4%\n",
            "Total de membros ativos: 51.5%\n"
          ]
        }
      ]
    },
    {
      "cell_type": "markdown",
      "metadata": {
        "id": "7OcM4qFeneUn"
      },
      "source": [
        "### Caracteristicas gerais dos clientes\n",
        "\n",
        "Por meio da descrição dos dados acima podemos identificar algumas caracteristicas dos clientes dessa empresa, sendo elas:\n",
        "\n",
        "\n",
        "* Possuem pontuação de crédito média de 650;  \n",
        "* Possuem idade média de 39 anos, sendo o mais novo com 18 e o mais velho com 92;\n",
        "* Possuem um classificação média de estabilidade no emprego de 5 pontos;\n",
        "* Média de 76 mil em conta e um salario médio anual estimado em 100 mil;\n",
        "* Em média os clientes possuem cerca de 1,5 produtos da empresa;\n",
        "* Existe uma taxa de abandono de 20,4% dos clientes;\n",
        "* Apenas 51,5% dos clientes são ativos.\n",
        "\n"
      ]
    },
    {
      "cell_type": "markdown",
      "metadata": {
        "id": "1SiF6GysISIa"
      },
      "source": [
        "### Histogramas e caracteristicas específicas\n",
        "\n",
        "As médias e medianas de cada coluna parecem possuir valores semelhantes o que indica uma possível distribuição dos dados próxima a normal, sem muitos outliers. Plotaremos os histogramas das colunas para verificar o comportamento dos dados e obter mais algumas informações a respeito."
      ]
    },
    {
      "cell_type": "code",
      "metadata": {
        "colab": {
          "base_uri": "https://localhost:8080/",
          "height": 879
        },
        "id": "8H4KCnbtKQOs",
        "outputId": "4a892e4a-55c3-4a42-986d-d8af3e191a89"
      },
      "source": [
        "#Histogramas com o número de clientes representado no eixo y e a variável representada no eixo x\n",
        "df.hist(figsize=(15, 15), bins=10);"
      ],
      "execution_count": 13,
      "outputs": [
        {
          "output_type": "display_data",
          "data": {
            "image/png": "[encoded data removed]",
            "text/plain": [
              "<Figure size 1080x1080 with 9 Axes>"
            ]
          },
          "metadata": {
            "needs_background": "light"
          }
        }
      ]
    },
    {
      "cell_type": "markdown",
      "metadata": {
        "id": "mXq5QnxVWtmR"
      },
      "source": [
        "A partir dos histogramas podemos estimar mais algumas informações a repeito dos clientes:\n",
        "* A distribuição de idade indica que a maioria dos clientes tem idade entre 30 e 40 anos;\n",
        "* A distribuição de Balance indica uma grande quantidade de clientes com menos de 25 mil na conta;\n",
        "* A maioria dos clientes possui cartão de crédito;\n",
        "* E a maioria dos clientes possui 1 ou 2 produtos.\n",
        "\n",
        "---\n"
      ]
    },
    {
      "cell_type": "markdown",
      "metadata": {
        "id": "xSEYzh1JIkGR"
      },
      "source": [
        "### Perfil dos clientes que deixaram a empresa\n",
        "\n",
        "Agora vamos estudar o perfil dos clientes que deixaram a empresa e procurar por caracteristicas que permitam a classificação dos mesmo. \n",
        "Começaremos gerando gráficos de barras das variáveis categóricas dos clientes que deixaram a empresa.\n",
        "Em seguida partiremos para os gráficos  das variáveis numéricas, para as quais serão utilizados 3 tipos de gráficos:\n",
        "* Barras, para variáveis com poucos valores;\n",
        "* Boxplots, para identificar padrões entre os clientes que deixaram ou não a empresa;\n",
        "* Dispersão, para encontrar padrões entre a taxa de churn e determinada variável."
      ]
    },
    {
      "cell_type": "markdown",
      "metadata": {
        "id": "HvkGLVqjIech"
      },
      "source": [
        "#### Variáveis Categóricas"
      ]
    },
    {
      "cell_type": "code",
      "metadata": {
        "colab": {
          "base_uri": "https://localhost:8080/",
          "height": 1000
        },
        "id": "L68wViO1iWuN",
        "outputId": "f9980b3c-1a00-4fa4-bc4a-781d3fd681a3"
      },
      "source": [
        "# Gráfico das variáveis categóricas em função da coluna Exited\n",
        "col_categoricos = ['HasCrCard', 'IsActiveMember', 'Gender', 'Geography']\n",
        "\n",
        "for col in col_categoricos:\n",
        "  df_mean_exited = df.groupby(col).Exited.mean().reset_index()\n",
        "  plt.figure(figsize=(6, 4));\n",
        "  plt.bar(df_mean_exited[col], df_mean_exited['Exited']);\n",
        "  plt.title(f'Churn by {col}');\n",
        "  plt.xlabel(col);\n",
        "  plt.ylabel('Churn');\n",
        "  plt.show()"
      ],
      "execution_count": 14,
      "outputs": [
        {
          "output_type": "display_data",
          "data": {
            "image/png": "[encoded data removed]",
            "text/plain": [
              "<Figure size 432x288 with 1 Axes>"
            ]
          },
          "metadata": {
            "needs_background": "light"
          }
        },
        {
          "output_type": "display_data",
          "data": {
            "image/png": "[encoded data removed]",
            "text/plain": [
              "<Figure size 432x288 with 1 Axes>"
            ]
          },
          "metadata": {
            "needs_background": "light"
          }
        },
        {
          "output_type": "display_data",
          "data": {
            "image/png": "[encoded data removed]",
            "text/plain": [
              "<Figure size 432x288 with 1 Axes>"
            ]
          },
          "metadata": {
            "needs_background": "light"
          }
        },
        {
          "output_type": "display_data",
          "data": {
            "image/png": "[encoded data removed]",
            "text/plain": [
              "<Figure size 432x288 with 1 Axes>"
            ]
          },
          "metadata": {
            "needs_background": "light"
          }
        }
      ]
    },
    {
      "cell_type": "markdown",
      "metadata": {
        "id": "U5YVnJR9nsto"
      },
      "source": [
        "Os gráficos de HasCrCard e IsActiveMember devem ser considerados apenas os valores 0 e 1 do eixo X, os demais valores devem ser desconsiderados.\n",
        "\n",
        "A partir do gráficos das variáveis categóricas é possível obter algumas conclusões:\n",
        "\n",
        "* Ter ou não crédito não influencia muito na tomada de decisão para deixar a empresa;\n",
        "* Membros com as contas desativadas apresentam maior probabilidade de desistir da empresa;\n",
        "* As mulheres apresentam maior probabilidade de largar a empresa;\n",
        "* A Alemanha é o pais com a maior quantidade de clientes que abandonaram a empresa.\n",
        "\n"
      ]
    },
    {
      "cell_type": "markdown",
      "metadata": {
        "id": "LLwaLW8SI196"
      },
      "source": [
        "#### Variáveis numéricas\n",
        "\n"
      ]
    },
    {
      "cell_type": "markdown",
      "metadata": {
        "id": "ZIVEc1DWX-t3"
      },
      "source": [
        "##### Boxplot"
      ]
    },
    {
      "cell_type": "code",
      "metadata": {
        "colab": {
          "base_uri": "https://localhost:8080/",
          "height": 1000
        },
        "id": "qULW89hqRK96",
        "outputId": "c8167d13-20ac-4508-be37-79da9ff45699"
      },
      "source": [
        "# Boxplots\n",
        "import seaborn as sns\n",
        "col_numericos_box = ['Age', 'CreditScore', 'Balance', 'EstimatedSalary']\n",
        "\n",
        "for col in col_numericos_box:\n",
        "  plt.figure(figsize=(6, 4));\n",
        "  sns.boxplot(x='Exited', y=col, data=df);\n",
        "  plt.title(f'{col}');\n",
        "  plt.ylabel(col);\n",
        "  plt.xlabel('Churn');\n",
        "  plt.show()"
      ],
      "execution_count": 15,
      "outputs": [
        {
          "output_type": "display_data",
          "data": {
            "image/png": "[encoded data removed]",
            "text/plain": [
              "<Figure size 432x288 with 1 Axes>"
            ]
          },
          "metadata": {
            "needs_background": "light"
          }
        },
        {
          "output_type": "display_data",
          "data": {
            "image/png": "[encoded data removed]",
            "text/plain": [
              "<Figure size 432x288 with 1 Axes>"
            ]
          },
          "metadata": {
            "needs_background": "light"
          }
        },
        {
          "output_type": "display_data",
          "data": {
            "image/png": "[encoded data removed]",
            "text/plain": [
              "<Figure size 432x288 with 1 Axes>"
            ]
          },
          "metadata": {
            "needs_background": "light"
          }
        },
        {
          "output_type": "display_data",
          "data": {
            "image/png": "[encoded data removed]",
            "text/plain": [
              "<Figure size 432x288 with 1 Axes>"
            ]
          },
          "metadata": {
            "needs_background": "light"
          }
        }
      ]
    },
    {
      "cell_type": "markdown",
      "metadata": {
        "id": "MpuJBJmUX8H1"
      },
      "source": [
        "Algumas informações interessantes:\n",
        "* A grande quantidade de outliers presente no gráfico de idade para pessoas que não abandonaram a empresa, indica que clientes com mais idade têm menos chances de abandonar a empresa;\n",
        "* Clientes com mediana de idade de 45 anos, tem maior probabilidade de sair da empresa;\n",
        "* A variável de pontuação de crédito não aparece influenciar na taxa de churn da empresa, uma vez que seus boxplot são visualmente semelhantes;\n",
        "* O boxplot dos clientes que abandonaram a empresa no gráfico de pontuação de crédito possui outliers para pontuações baixas, indicando que a baixa pontuação de crédito talvez leve as pessoas a abandonarem a empresa.\n",
        "* A estimativa de salário não parece afetar o churn;\n",
        "* Clientes que abandonaram a empresa, possuem maior mediana de Saldo.\n",
        "\n",
        "\n",
        "Perguntas a reponder:\n",
        "* Os clientes com mais idade são ativos e possuem saldo?\n"
      ]
    },
    {
      "cell_type": "code",
      "metadata": {
        "colab": {
          "base_uri": "https://localhost:8080/",
          "height": 295
        },
        "id": "SprmqPtojOln",
        "outputId": "0d108535-7a6a-41c1-ef93-f06f6c52a753"
      },
      "source": [
        "plt.figure(figsize=(6, 4));\n",
        "sns.boxplot(x='IsActiveMember', y='Age', data=df);\n",
        "plt.title(f'Active members by age');\n",
        "plt.ylabel('Age');\n",
        "plt.xlabel('Is Active Member?');\n",
        "plt.show()"
      ],
      "execution_count": 16,
      "outputs": [
        {
          "output_type": "display_data",
          "data": {
            "image/png": "[encoded data removed]",
            "text/plain": [
              "<Figure size 432x288 with 1 Axes>"
            ]
          },
          "metadata": {
            "needs_background": "light"
          }
        }
      ]
    },
    {
      "cell_type": "code",
      "metadata": {
        "colab": {
          "base_uri": "https://localhost:8080/",
          "height": 295
        },
        "id": "JdywP4NUl2rt",
        "outputId": "44db1196-5a83-4d30-e8c2-2b39392adb10"
      },
      "source": [
        "df_balance_age = df.groupby('Age').Balance.mean().reset_index()\n",
        "plt.figure(figsize=(6, 4));\n",
        "plt.scatter(df_balance_age['Age'], df_balance_age['Balance']);\n",
        "plt.title(f'Balance against Age');\n",
        "plt.xlabel('Age');\n",
        "plt.ylabel('Balance');\n",
        "plt.show()"
      ],
      "execution_count": 17,
      "outputs": [
        {
          "output_type": "display_data",
          "data": {
            "image/png": "[encoded data removed]",
            "text/plain": [
              "<Figure size 432x288 with 1 Axes>"
            ]
          },
          "metadata": {
            "needs_background": "light"
          }
        }
      ]
    },
    {
      "cell_type": "markdown",
      "metadata": {
        "id": "7g0JM9MFnNQA"
      },
      "source": [
        "De acordo com os dois gráficos acima, as pessoas com mais idade são, em sua maioria, membros ativos, contudo, parecem possuir majoritariamente valores mais baixos de saldo."
      ]
    },
    {
      "cell_type": "markdown",
      "metadata": {
        "id": "NPTG1CEHYDcf"
      },
      "source": [
        "##### Dispersão\n",
        "\n",
        "Serão plotados os gráficos de churn against Age e Churn against CreditScore.\n",
        "Os gráfico de EstimatedSalary e Balance não serão plotados pois como vistos anteriormente, possuem muitos valores unicos, não sendo interesante utilizar valores médios para identificar a taxa de churn desses itens."
      ]
    },
    {
      "cell_type": "code",
      "metadata": {
        "colab": {
          "base_uri": "https://localhost:8080/",
          "height": 573
        },
        "id": "2KAhm1qyN97N",
        "outputId": "1b2a6d63-f8c6-4283-99ff-cd7ebc1fcf53"
      },
      "source": [
        "# Graficos de dispersão para as variáveis com muitos valores (Age, CreditScore, Balance, EstimatedSalary)\n",
        "col_numericos_disp = ['Age', 'CreditScore']\n",
        "\n",
        "for col in col_numericos_disp:\n",
        "  df_numericos_disp = df.groupby(col).Exited.mean().reset_index()\n",
        "  plt.figure(figsize=(6, 4));\n",
        "  plt.scatter(df_numericos_disp[col], df_numericos_disp['Exited']);\n",
        "  plt.title(f'Churn against {col}');\n",
        "  plt.xlabel(col);\n",
        "  plt.ylabel('Churn');\n",
        "  plt.show()"
      ],
      "execution_count": 18,
      "outputs": [
        {
          "output_type": "display_data",
          "data": {
            "image/png": "[encoded data removed]",
            "text/plain": [
              "<Figure size 432x288 with 1 Axes>"
            ]
          },
          "metadata": {
            "needs_background": "light"
          }
        },
        {
          "output_type": "display_data",
          "data": {
            "image/png": "[encoded data removed]",
            "text/plain": [
              "<Figure size 432x288 with 1 Axes>"
            ]
          },
          "metadata": {
            "needs_background": "light"
          }
        }
      ]
    },
    {
      "cell_type": "markdown",
      "metadata": {
        "id": "bGN4-e-MQOvQ"
      },
      "source": [
        "Os gráficos de dispersão indicam que:\n",
        "* Clientes com idade entre 40 e 60 possuem maior taxa de churn que clientes com outras idades;\n",
        "* Clientes com a menor pontuação de crédito são os mais proensos a abandonar a empresa."
      ]
    },
    {
      "cell_type": "markdown",
      "metadata": {
        "id": "KI9eeEPQYJ1G"
      },
      "source": [
        "##### Barras\n",
        "\n",
        "O gráfico de barras será utilizado para apresentar os resultados das colunas Tenure\te\tNumOfProducts, uma vez que estas estão divididas em categorias bem definidas"
      ]
    },
    {
      "cell_type": "code",
      "metadata": {
        "colab": {
          "base_uri": "https://localhost:8080/",
          "height": 573
        },
        "id": "qCYb-WUDv14t",
        "outputId": "aae15ec7-a2df-4c09-9465-35fe6304aba0"
      },
      "source": [
        "col_numericos_bar = ['Tenure', 'NumOfProducts']\n",
        "  \n",
        "for col in col_numericos_bar:\n",
        "  df_plot = df.groupby(col).Exited.mean().reset_index()\n",
        "  plt.figure(figsize=(6, 4));\n",
        "  plt.bar(df_plot[col], df_plot['Exited']);\n",
        "  plt.title(f'Churn by {col}');\n",
        "  plt.xlabel(col);\n",
        "  plt.ylabel('Churn');\n",
        "  plt.show()"
      ],
      "execution_count": 19,
      "outputs": [
        {
          "output_type": "display_data",
          "data": {
            "image/png": "[encoded data removed]",
            "text/plain": [
              "<Figure size 432x288 with 1 Axes>"
            ]
          },
          "metadata": {
            "needs_background": "light"
          }
        },
        {
          "output_type": "display_data",
          "data": {
            "image/png": "[encoded data removed]",
            "text/plain": [
              "<Figure size 432x288 with 1 Axes>"
            ]
          },
          "metadata": {
            "needs_background": "light"
          }
        }
      ]
    },
    {
      "cell_type": "markdown",
      "metadata": {
        "id": "bjcmB6kCRJMd"
      },
      "source": [
        "A partir desses gráficos de barra é possível obter algumas informações:\n",
        "* Clientes com 3 ou 4 produtos possuem mais chance de abandonar a empresa;\n",
        "* A estabilidade no emprego não parece ter muita relação com a taxa de Churn, ocorrendo apenas uma leve tendencia para pessoas com 0 ou 1 pontos de estabilidade terem mais chance de abandonar a empresa."
      ]
    },
    {
      "cell_type": "markdown",
      "metadata": {
        "id": "K0CDDjhhUF7n"
      },
      "source": [
        "## Pergunta 2\n",
        "\n",
        "* Explique como você faria a previsão do Churn a partir dos dados;\n",
        "* Quais variáveis e/ou suas transformações você utilizou e por quê?;\n",
        "* Qual tipo de problema estamos resolvendo (regressão, classificação)?;\n",
        "* Qual modelo melhor se aproxima dos dados e quais seus prós e contras? \n",
        "* Qual medida de performance do modelo foi escolhida e por quê?"
      ]
    },
    {
      "cell_type": "markdown",
      "metadata": {
        "id": "Kx_G0rnbVFFh"
      },
      "source": [
        "### Predição a partir dos dados\n",
        "\n",
        "Para fazer a previsão do Churn a partir dos dados será utilizado um modelo de machine learning que é capaz de, a partir dos dados de entrada e de uma variável resposta, criar critérios que permitem a predição de novas respostas a partir das variáveis de entradas pré definidas\n",
        "\n"
      ]
    },
    {
      "cell_type": "markdown",
      "metadata": {
        "id": "Fccpvgre1dz7"
      },
      "source": [
        "### Variáveis e transformações\n",
        "\n",
        "Para não modificar os valores da variável resposta, devemos separar o dataframe:\n",
        "\n",
        "* X = variáveis independentes;\n",
        "* y = variável resposta.\n",
        "\n",
        "Outras transformações necessárias de se realizar no DataFrame antes de aplicar o modelo, já foram realizadas no item Transformação, limpeza e identificação dos dados, no início deste notebook.\n",
        "\n"
      ]
    },
    {
      "cell_type": "code",
      "metadata": {
        "colab": {
          "base_uri": "https://localhost:8080/",
          "height": 394
        },
        "id": "8vKu_HuhyJ7S",
        "outputId": "1aef326e-93f1-4d3c-d2f0-cc672e41e0b6"
      },
      "source": [
        "X = df.drop('Exited', axis=1)\n",
        "y = df['Exited']\n",
        "X.head(10)"
      ],
      "execution_count": 20,
      "outputs": [
        {
          "output_type": "execute_result",
          "data": {
            "text/html": [
              "<div>\n",
              "<style scoped>\n",
              "    .dataframe tbody tr th:only-of-type {\n",
              "        vertical-align: middle;\n",
              "    }\n",
              "\n",
              "    .dataframe tbody tr th {\n",
              "        vertical-align: top;\n",
              "    }\n",
              "\n",
              "    .dataframe thead th {\n",
              "        text-align: right;\n",
              "    }\n",
              "</style>\n",
              "<table border=\"1\" class=\"dataframe\">\n",
              "  <thead>\n",
              "    <tr style=\"text-align: right;\">\n",
              "      <th></th>\n",
              "      <th>CreditScore</th>\n",
              "      <th>Geography</th>\n",
              "      <th>Gender</th>\n",
              "      <th>Age</th>\n",
              "      <th>Tenure</th>\n",
              "      <th>Balance</th>\n",
              "      <th>NumOfProducts</th>\n",
              "      <th>HasCrCard</th>\n",
              "      <th>IsActiveMember</th>\n",
              "      <th>EstimatedSalary</th>\n",
              "    </tr>\n",
              "    <tr>\n",
              "      <th>RowNumber</th>\n",
              "      <th></th>\n",
              "      <th></th>\n",
              "      <th></th>\n",
              "      <th></th>\n",
              "      <th></th>\n",
              "      <th></th>\n",
              "      <th></th>\n",
              "      <th></th>\n",
              "      <th></th>\n",
              "      <th></th>\n",
              "    </tr>\n",
              "  </thead>\n",
              "  <tbody>\n",
              "    <tr>\n",
              "      <th>1</th>\n",
              "      <td>619</td>\n",
              "      <td>France</td>\n",
              "      <td>Female</td>\n",
              "      <td>42</td>\n",
              "      <td>2</td>\n",
              "      <td>0.00</td>\n",
              "      <td>1</td>\n",
              "      <td>1</td>\n",
              "      <td>1</td>\n",
              "      <td>101348.88</td>\n",
              "    </tr>\n",
              "    <tr>\n",
              "      <th>2</th>\n",
              "      <td>608</td>\n",
              "      <td>Spain</td>\n",
              "      <td>Female</td>\n",
              "      <td>41</td>\n",
              "      <td>1</td>\n",
              "      <td>83807.86</td>\n",
              "      <td>1</td>\n",
              "      <td>0</td>\n",
              "      <td>1</td>\n",
              "      <td>112542.58</td>\n",
              "    </tr>\n",
              "    <tr>\n",
              "      <th>3</th>\n",
              "      <td>502</td>\n",
              "      <td>France</td>\n",
              "      <td>Female</td>\n",
              "      <td>42</td>\n",
              "      <td>8</td>\n",
              "      <td>159660.80</td>\n",
              "      <td>3</td>\n",
              "      <td>1</td>\n",
              "      <td>0</td>\n",
              "      <td>113931.57</td>\n",
              "    </tr>\n",
              "    <tr>\n",
              "      <th>4</th>\n",
              "      <td>699</td>\n",
              "      <td>France</td>\n",
              "      <td>Female</td>\n",
              "      <td>39</td>\n",
              "      <td>1</td>\n",
              "      <td>0.00</td>\n",
              "      <td>2</td>\n",
              "      <td>0</td>\n",
              "      <td>0</td>\n",
              "      <td>93826.63</td>\n",
              "    </tr>\n",
              "    <tr>\n",
              "      <th>5</th>\n",
              "      <td>850</td>\n",
              "      <td>Spain</td>\n",
              "      <td>Female</td>\n",
              "      <td>43</td>\n",
              "      <td>2</td>\n",
              "      <td>125510.82</td>\n",
              "      <td>1</td>\n",
              "      <td>1</td>\n",
              "      <td>1</td>\n",
              "      <td>79084.10</td>\n",
              "    </tr>\n",
              "    <tr>\n",
              "      <th>6</th>\n",
              "      <td>645</td>\n",
              "      <td>Spain</td>\n",
              "      <td>Male</td>\n",
              "      <td>44</td>\n",
              "      <td>8</td>\n",
              "      <td>113755.78</td>\n",
              "      <td>2</td>\n",
              "      <td>1</td>\n",
              "      <td>0</td>\n",
              "      <td>149756.71</td>\n",
              "    </tr>\n",
              "    <tr>\n",
              "      <th>7</th>\n",
              "      <td>822</td>\n",
              "      <td>France</td>\n",
              "      <td>Male</td>\n",
              "      <td>50</td>\n",
              "      <td>7</td>\n",
              "      <td>0.00</td>\n",
              "      <td>2</td>\n",
              "      <td>1</td>\n",
              "      <td>1</td>\n",
              "      <td>10062.80</td>\n",
              "    </tr>\n",
              "    <tr>\n",
              "      <th>8</th>\n",
              "      <td>376</td>\n",
              "      <td>Germany</td>\n",
              "      <td>Female</td>\n",
              "      <td>29</td>\n",
              "      <td>4</td>\n",
              "      <td>115046.74</td>\n",
              "      <td>4</td>\n",
              "      <td>1</td>\n",
              "      <td>0</td>\n",
              "      <td>119346.88</td>\n",
              "    </tr>\n",
              "    <tr>\n",
              "      <th>9</th>\n",
              "      <td>501</td>\n",
              "      <td>France</td>\n",
              "      <td>Male</td>\n",
              "      <td>44</td>\n",
              "      <td>4</td>\n",
              "      <td>142051.07</td>\n",
              "      <td>2</td>\n",
              "      <td>0</td>\n",
              "      <td>1</td>\n",
              "      <td>74940.50</td>\n",
              "    </tr>\n",
              "    <tr>\n",
              "      <th>10</th>\n",
              "      <td>684</td>\n",
              "      <td>France</td>\n",
              "      <td>Male</td>\n",
              "      <td>27</td>\n",
              "      <td>2</td>\n",
              "      <td>134603.88</td>\n",
              "      <td>1</td>\n",
              "      <td>1</td>\n",
              "      <td>1</td>\n",
              "      <td>71725.73</td>\n",
              "    </tr>\n",
              "  </tbody>\n",
              "</table>\n",
              "</div>"
            ],
            "text/plain": [
              "           CreditScore Geography  ... IsActiveMember  EstimatedSalary\n",
              "RowNumber                         ...                                \n",
              "1                  619    France  ...              1        101348.88\n",
              "2                  608     Spain  ...              1        112542.58\n",
              "3                  502    France  ...              0        113931.57\n",
              "4                  699    France  ...              0         93826.63\n",
              "5                  850     Spain  ...              1         79084.10\n",
              "6                  645     Spain  ...              0        149756.71\n",
              "7                  822    France  ...              1         10062.80\n",
              "8                  376   Germany  ...              0        119346.88\n",
              "9                  501    France  ...              1         74940.50\n",
              "10                 684    France  ...              1         71725.73\n",
              "\n",
              "[10 rows x 10 columns]"
            ]
          },
          "metadata": {},
          "execution_count": 20
        }
      ]
    },
    {
      "cell_type": "markdown",
      "metadata": {
        "id": "L3Nj6hF3hKjh"
      },
      "source": [
        "#### Tratando variáveis categóricas\n",
        "\n",
        "Para aplicar os modelos de machine learning também é necessário atribuir valores numéricos a todas as colunas e transformar as colunas com variáveis categóricas em colunas com valores binários.\n",
        "\n",
        "Como as colunas NumOfProducts e Geography possuem 3 valores diferentes na mesma coluna, será utilizada a função get_dummies do pandas, que cria uma nova coluna para cada categoria da coluna especificada, atribuindo o valor 1 para as entradas correspondentes aquela categoria e 0 para as outras."
      ]
    },
    {
      "cell_type": "code",
      "metadata": {
        "colab": {
          "base_uri": "https://localhost:8080/",
          "height": 394
        },
        "id": "A38bpCHh3Tq2",
        "outputId": "8d5f2298-be86-4e06-8608-10df6d6ecfcb"
      },
      "source": [
        "X['Gender'] = X['Gender'].replace(['Female', 'Male'], [0, 1])\n",
        "\n",
        "X_cat_tratados = pd.get_dummies(data=X, columns=['Geography', 'NumOfProducts'])\n",
        "X_cat_tratados.head(10)"
      ],
      "execution_count": 21,
      "outputs": [
        {
          "output_type": "execute_result",
          "data": {
            "text/html": [
              "<div>\n",
              "<style scoped>\n",
              "    .dataframe tbody tr th:only-of-type {\n",
              "        vertical-align: middle;\n",
              "    }\n",
              "\n",
              "    .dataframe tbody tr th {\n",
              "        vertical-align: top;\n",
              "    }\n",
              "\n",
              "    .dataframe thead th {\n",
              "        text-align: right;\n",
              "    }\n",
              "</style>\n",
              "<table border=\"1\" class=\"dataframe\">\n",
              "  <thead>\n",
              "    <tr style=\"text-align: right;\">\n",
              "      <th></th>\n",
              "      <th>CreditScore</th>\n",
              "      <th>Gender</th>\n",
              "      <th>Age</th>\n",
              "      <th>Tenure</th>\n",
              "      <th>Balance</th>\n",
              "      <th>HasCrCard</th>\n",
              "      <th>IsActiveMember</th>\n",
              "      <th>EstimatedSalary</th>\n",
              "      <th>Geography_France</th>\n",
              "      <th>Geography_Germany</th>\n",
              "      <th>Geography_Spain</th>\n",
              "      <th>NumOfProducts_1</th>\n",
              "      <th>NumOfProducts_2</th>\n",
              "      <th>NumOfProducts_3</th>\n",
              "      <th>NumOfProducts_4</th>\n",
              "    </tr>\n",
              "    <tr>\n",
              "      <th>RowNumber</th>\n",
              "      <th></th>\n",
              "      <th></th>\n",
              "      <th></th>\n",
              "      <th></th>\n",
              "      <th></th>\n",
              "      <th></th>\n",
              "      <th></th>\n",
              "      <th></th>\n",
              "      <th></th>\n",
              "      <th></th>\n",
              "      <th></th>\n",
              "      <th></th>\n",
              "      <th></th>\n",
              "      <th></th>\n",
              "      <th></th>\n",
              "    </tr>\n",
              "  </thead>\n",
              "  <tbody>\n",
              "    <tr>\n",
              "      <th>1</th>\n",
              "      <td>619</td>\n",
              "      <td>0</td>\n",
              "      <td>42</td>\n",
              "      <td>2</td>\n",
              "      <td>0.00</td>\n",
              "      <td>1</td>\n",
              "      <td>1</td>\n",
              "      <td>101348.88</td>\n",
              "      <td>1</td>\n",
              "      <td>0</td>\n",
              "      <td>0</td>\n",
              "      <td>1</td>\n",
              "      <td>0</td>\n",
              "      <td>0</td>\n",
              "      <td>0</td>\n",
              "    </tr>\n",
              "    <tr>\n",
              "      <th>2</th>\n",
              "      <td>608</td>\n",
              "      <td>0</td>\n",
              "      <td>41</td>\n",
              "      <td>1</td>\n",
              "      <td>83807.86</td>\n",
              "      <td>0</td>\n",
              "      <td>1</td>\n",
              "      <td>112542.58</td>\n",
              "      <td>0</td>\n",
              "      <td>0</td>\n",
              "      <td>1</td>\n",
              "      <td>1</td>\n",
              "      <td>0</td>\n",
              "      <td>0</td>\n",
              "      <td>0</td>\n",
              "    </tr>\n",
              "    <tr>\n",
              "      <th>3</th>\n",
              "      <td>502</td>\n",
              "      <td>0</td>\n",
              "      <td>42</td>\n",
              "      <td>8</td>\n",
              "      <td>159660.80</td>\n",
              "      <td>1</td>\n",
              "      <td>0</td>\n",
              "      <td>113931.57</td>\n",
              "      <td>1</td>\n",
              "      <td>0</td>\n",
              "      <td>0</td>\n",
              "      <td>0</td>\n",
              "      <td>0</td>\n",
              "      <td>1</td>\n",
              "      <td>0</td>\n",
              "    </tr>\n",
              "    <tr>\n",
              "      <th>4</th>\n",
              "      <td>699</td>\n",
              "      <td>0</td>\n",
              "      <td>39</td>\n",
              "      <td>1</td>\n",
              "      <td>0.00</td>\n",
              "      <td>0</td>\n",
              "      <td>0</td>\n",
              "      <td>93826.63</td>\n",
              "      <td>1</td>\n",
              "      <td>0</td>\n",
              "      <td>0</td>\n",
              "      <td>0</td>\n",
              "      <td>1</td>\n",
              "      <td>0</td>\n",
              "      <td>0</td>\n",
              "    </tr>\n",
              "    <tr>\n",
              "      <th>5</th>\n",
              "      <td>850</td>\n",
              "      <td>0</td>\n",
              "      <td>43</td>\n",
              "      <td>2</td>\n",
              "      <td>125510.82</td>\n",
              "      <td>1</td>\n",
              "      <td>1</td>\n",
              "      <td>79084.10</td>\n",
              "      <td>0</td>\n",
              "      <td>0</td>\n",
              "      <td>1</td>\n",
              "      <td>1</td>\n",
              "      <td>0</td>\n",
              "      <td>0</td>\n",
              "      <td>0</td>\n",
              "    </tr>\n",
              "    <tr>\n",
              "      <th>6</th>\n",
              "      <td>645</td>\n",
              "      <td>1</td>\n",
              "      <td>44</td>\n",
              "      <td>8</td>\n",
              "      <td>113755.78</td>\n",
              "      <td>1</td>\n",
              "      <td>0</td>\n",
              "      <td>149756.71</td>\n",
              "      <td>0</td>\n",
              "      <td>0</td>\n",
              "      <td>1</td>\n",
              "      <td>0</td>\n",
              "      <td>1</td>\n",
              "      <td>0</td>\n",
              "      <td>0</td>\n",
              "    </tr>\n",
              "    <tr>\n",
              "      <th>7</th>\n",
              "      <td>822</td>\n",
              "      <td>1</td>\n",
              "      <td>50</td>\n",
              "      <td>7</td>\n",
              "      <td>0.00</td>\n",
              "      <td>1</td>\n",
              "      <td>1</td>\n",
              "      <td>10062.80</td>\n",
              "      <td>1</td>\n",
              "      <td>0</td>\n",
              "      <td>0</td>\n",
              "      <td>0</td>\n",
              "      <td>1</td>\n",
              "      <td>0</td>\n",
              "      <td>0</td>\n",
              "    </tr>\n",
              "    <tr>\n",
              "      <th>8</th>\n",
              "      <td>376</td>\n",
              "      <td>0</td>\n",
              "      <td>29</td>\n",
              "      <td>4</td>\n",
              "      <td>115046.74</td>\n",
              "      <td>1</td>\n",
              "      <td>0</td>\n",
              "      <td>119346.88</td>\n",
              "      <td>0</td>\n",
              "      <td>1</td>\n",
              "      <td>0</td>\n",
              "      <td>0</td>\n",
              "      <td>0</td>\n",
              "      <td>0</td>\n",
              "      <td>1</td>\n",
              "    </tr>\n",
              "    <tr>\n",
              "      <th>9</th>\n",
              "      <td>501</td>\n",
              "      <td>1</td>\n",
              "      <td>44</td>\n",
              "      <td>4</td>\n",
              "      <td>142051.07</td>\n",
              "      <td>0</td>\n",
              "      <td>1</td>\n",
              "      <td>74940.50</td>\n",
              "      <td>1</td>\n",
              "      <td>0</td>\n",
              "      <td>0</td>\n",
              "      <td>0</td>\n",
              "      <td>1</td>\n",
              "      <td>0</td>\n",
              "      <td>0</td>\n",
              "    </tr>\n",
              "    <tr>\n",
              "      <th>10</th>\n",
              "      <td>684</td>\n",
              "      <td>1</td>\n",
              "      <td>27</td>\n",
              "      <td>2</td>\n",
              "      <td>134603.88</td>\n",
              "      <td>1</td>\n",
              "      <td>1</td>\n",
              "      <td>71725.73</td>\n",
              "      <td>1</td>\n",
              "      <td>0</td>\n",
              "      <td>0</td>\n",
              "      <td>1</td>\n",
              "      <td>0</td>\n",
              "      <td>0</td>\n",
              "      <td>0</td>\n",
              "    </tr>\n",
              "  </tbody>\n",
              "</table>\n",
              "</div>"
            ],
            "text/plain": [
              "           CreditScore  Gender  ...  NumOfProducts_3  NumOfProducts_4\n",
              "RowNumber                       ...                                  \n",
              "1                  619       0  ...                0                0\n",
              "2                  608       0  ...                0                0\n",
              "3                  502       0  ...                1                0\n",
              "4                  699       0  ...                0                0\n",
              "5                  850       0  ...                0                0\n",
              "6                  645       1  ...                0                0\n",
              "7                  822       1  ...                0                0\n",
              "8                  376       0  ...                0                1\n",
              "9                  501       1  ...                0                0\n",
              "10                 684       1  ...                0                0\n",
              "\n",
              "[10 rows x 15 columns]"
            ]
          },
          "metadata": {},
          "execution_count": 21
        }
      ]
    },
    {
      "cell_type": "markdown",
      "metadata": {
        "id": "QD42ff5BAB_w"
      },
      "source": [
        "#### Tratando variáveis numéricas\n",
        "\n",
        "https://medium.com/ipnet-growth-partner/padronizacao-normalizacao-dados-machine-learning-f8f29246c12\n",
        "\n",
        "Apesas da variável Tenure ser categorica por possuir muitos valores, será tratada como numérica, e sofrerá as mesmas transformações.\n",
        "\n",
        "Como a distribuição dos dados não é gaussiana para a maioria das variáveis e é distorcida da gaussiana para alguma delas, será realizada a normalização dos dados numéricos a partir da fórmula:\n",
        "\n",
        "<center>Valor normalizado = (valor - minimo da coluna)/(maximo da coluna - minimo da coluna)</center>\n",
        "\n"
      ]
    },
    {
      "cell_type": "code",
      "metadata": {
        "colab": {
          "base_uri": "https://localhost:8080/"
        },
        "id": "pa80VI1ZKmW2",
        "outputId": "48c0a463-e26f-40b1-d0ab-6a6e9d275851"
      },
      "source": [
        "col_numericos_box.append('Tenure')\n",
        "col_numericos_box"
      ],
      "execution_count": 22,
      "outputs": [
        {
          "output_type": "execute_result",
          "data": {
            "text/plain": [
              "['Age', 'CreditScore', 'Balance', 'EstimatedSalary', 'Tenure']"
            ]
          },
          "metadata": {},
          "execution_count": 22
        }
      ]
    },
    {
      "cell_type": "code",
      "metadata": {
        "colab": {
          "base_uri": "https://localhost:8080/",
          "height": 455
        },
        "id": "NrQEph7yI2Gr",
        "outputId": "4e68e472-c0cf-4fe0-ffdb-07a0c14e3afd"
      },
      "source": [
        "X_cat_tratados[col_numericos_box] = MinMaxScaler().fit_transform(X_cat_tratados[col_numericos_box])\n",
        "X_tratados = X_cat_tratados\n",
        "X_tratados"
      ],
      "execution_count": 23,
      "outputs": [
        {
          "output_type": "execute_result",
          "data": {
            "text/html": [
              "<div>\n",
              "<style scoped>\n",
              "    .dataframe tbody tr th:only-of-type {\n",
              "        vertical-align: middle;\n",
              "    }\n",
              "\n",
              "    .dataframe tbody tr th {\n",
              "        vertical-align: top;\n",
              "    }\n",
              "\n",
              "    .dataframe thead th {\n",
              "        text-align: right;\n",
              "    }\n",
              "</style>\n",
              "<table border=\"1\" class=\"dataframe\">\n",
              "  <thead>\n",
              "    <tr style=\"text-align: right;\">\n",
              "      <th></th>\n",
              "      <th>CreditScore</th>\n",
              "      <th>Gender</th>\n",
              "      <th>Age</th>\n",
              "      <th>Tenure</th>\n",
              "      <th>Balance</th>\n",
              "      <th>HasCrCard</th>\n",
              "      <th>IsActiveMember</th>\n",
              "      <th>EstimatedSalary</th>\n",
              "      <th>Geography_France</th>\n",
              "      <th>Geography_Germany</th>\n",
              "      <th>Geography_Spain</th>\n",
              "      <th>NumOfProducts_1</th>\n",
              "      <th>NumOfProducts_2</th>\n",
              "      <th>NumOfProducts_3</th>\n",
              "      <th>NumOfProducts_4</th>\n",
              "    </tr>\n",
              "    <tr>\n",
              "      <th>RowNumber</th>\n",
              "      <th></th>\n",
              "      <th></th>\n",
              "      <th></th>\n",
              "      <th></th>\n",
              "      <th></th>\n",
              "      <th></th>\n",
              "      <th></th>\n",
              "      <th></th>\n",
              "      <th></th>\n",
              "      <th></th>\n",
              "      <th></th>\n",
              "      <th></th>\n",
              "      <th></th>\n",
              "      <th></th>\n",
              "      <th></th>\n",
              "    </tr>\n",
              "  </thead>\n",
              "  <tbody>\n",
              "    <tr>\n",
              "      <th>1</th>\n",
              "      <td>0.538</td>\n",
              "      <td>0</td>\n",
              "      <td>0.324324</td>\n",
              "      <td>0.2</td>\n",
              "      <td>0.000000</td>\n",
              "      <td>1</td>\n",
              "      <td>1</td>\n",
              "      <td>0.506735</td>\n",
              "      <td>1</td>\n",
              "      <td>0</td>\n",
              "      <td>0</td>\n",
              "      <td>1</td>\n",
              "      <td>0</td>\n",
              "      <td>0</td>\n",
              "      <td>0</td>\n",
              "    </tr>\n",
              "    <tr>\n",
              "      <th>2</th>\n",
              "      <td>0.516</td>\n",
              "      <td>0</td>\n",
              "      <td>0.310811</td>\n",
              "      <td>0.1</td>\n",
              "      <td>0.334031</td>\n",
              "      <td>0</td>\n",
              "      <td>1</td>\n",
              "      <td>0.562709</td>\n",
              "      <td>0</td>\n",
              "      <td>0</td>\n",
              "      <td>1</td>\n",
              "      <td>1</td>\n",
              "      <td>0</td>\n",
              "      <td>0</td>\n",
              "      <td>0</td>\n",
              "    </tr>\n",
              "    <tr>\n",
              "      <th>3</th>\n",
              "      <td>0.304</td>\n",
              "      <td>0</td>\n",
              "      <td>0.324324</td>\n",
              "      <td>0.8</td>\n",
              "      <td>0.636357</td>\n",
              "      <td>1</td>\n",
              "      <td>0</td>\n",
              "      <td>0.569654</td>\n",
              "      <td>1</td>\n",
              "      <td>0</td>\n",
              "      <td>0</td>\n",
              "      <td>0</td>\n",
              "      <td>0</td>\n",
              "      <td>1</td>\n",
              "      <td>0</td>\n",
              "    </tr>\n",
              "    <tr>\n",
              "      <th>4</th>\n",
              "      <td>0.698</td>\n",
              "      <td>0</td>\n",
              "      <td>0.283784</td>\n",
              "      <td>0.1</td>\n",
              "      <td>0.000000</td>\n",
              "      <td>0</td>\n",
              "      <td>0</td>\n",
              "      <td>0.469120</td>\n",
              "      <td>1</td>\n",
              "      <td>0</td>\n",
              "      <td>0</td>\n",
              "      <td>0</td>\n",
              "      <td>1</td>\n",
              "      <td>0</td>\n",
              "      <td>0</td>\n",
              "    </tr>\n",
              "    <tr>\n",
              "      <th>5</th>\n",
              "      <td>1.000</td>\n",
              "      <td>0</td>\n",
              "      <td>0.337838</td>\n",
              "      <td>0.2</td>\n",
              "      <td>0.500246</td>\n",
              "      <td>1</td>\n",
              "      <td>1</td>\n",
              "      <td>0.395400</td>\n",
              "      <td>0</td>\n",
              "      <td>0</td>\n",
              "      <td>1</td>\n",
              "      <td>1</td>\n",
              "      <td>0</td>\n",
              "      <td>0</td>\n",
              "      <td>0</td>\n",
              "    </tr>\n",
              "    <tr>\n",
              "      <th>...</th>\n",
              "      <td>...</td>\n",
              "      <td>...</td>\n",
              "      <td>...</td>\n",
              "      <td>...</td>\n",
              "      <td>...</td>\n",
              "      <td>...</td>\n",
              "      <td>...</td>\n",
              "      <td>...</td>\n",
              "      <td>...</td>\n",
              "      <td>...</td>\n",
              "      <td>...</td>\n",
              "      <td>...</td>\n",
              "      <td>...</td>\n",
              "      <td>...</td>\n",
              "      <td>...</td>\n",
              "    </tr>\n",
              "    <tr>\n",
              "      <th>9996</th>\n",
              "      <td>0.842</td>\n",
              "      <td>1</td>\n",
              "      <td>0.283784</td>\n",
              "      <td>0.5</td>\n",
              "      <td>0.000000</td>\n",
              "      <td>1</td>\n",
              "      <td>0</td>\n",
              "      <td>0.481341</td>\n",
              "      <td>1</td>\n",
              "      <td>0</td>\n",
              "      <td>0</td>\n",
              "      <td>0</td>\n",
              "      <td>1</td>\n",
              "      <td>0</td>\n",
              "      <td>0</td>\n",
              "    </tr>\n",
              "    <tr>\n",
              "      <th>9997</th>\n",
              "      <td>0.332</td>\n",
              "      <td>1</td>\n",
              "      <td>0.229730</td>\n",
              "      <td>1.0</td>\n",
              "      <td>0.228657</td>\n",
              "      <td>1</td>\n",
              "      <td>1</td>\n",
              "      <td>0.508490</td>\n",
              "      <td>1</td>\n",
              "      <td>0</td>\n",
              "      <td>0</td>\n",
              "      <td>1</td>\n",
              "      <td>0</td>\n",
              "      <td>0</td>\n",
              "      <td>0</td>\n",
              "    </tr>\n",
              "    <tr>\n",
              "      <th>9998</th>\n",
              "      <td>0.718</td>\n",
              "      <td>0</td>\n",
              "      <td>0.243243</td>\n",
              "      <td>0.7</td>\n",
              "      <td>0.000000</td>\n",
              "      <td>0</td>\n",
              "      <td>1</td>\n",
              "      <td>0.210390</td>\n",
              "      <td>1</td>\n",
              "      <td>0</td>\n",
              "      <td>0</td>\n",
              "      <td>1</td>\n",
              "      <td>0</td>\n",
              "      <td>0</td>\n",
              "      <td>0</td>\n",
              "    </tr>\n",
              "    <tr>\n",
              "      <th>9999</th>\n",
              "      <td>0.844</td>\n",
              "      <td>1</td>\n",
              "      <td>0.324324</td>\n",
              "      <td>0.3</td>\n",
              "      <td>0.299226</td>\n",
              "      <td>1</td>\n",
              "      <td>0</td>\n",
              "      <td>0.464429</td>\n",
              "      <td>0</td>\n",
              "      <td>1</td>\n",
              "      <td>0</td>\n",
              "      <td>0</td>\n",
              "      <td>1</td>\n",
              "      <td>0</td>\n",
              "      <td>0</td>\n",
              "    </tr>\n",
              "    <tr>\n",
              "      <th>10000</th>\n",
              "      <td>0.884</td>\n",
              "      <td>0</td>\n",
              "      <td>0.135135</td>\n",
              "      <td>0.4</td>\n",
              "      <td>0.518708</td>\n",
              "      <td>1</td>\n",
              "      <td>0</td>\n",
              "      <td>0.190914</td>\n",
              "      <td>1</td>\n",
              "      <td>0</td>\n",
              "      <td>0</td>\n",
              "      <td>1</td>\n",
              "      <td>0</td>\n",
              "      <td>0</td>\n",
              "      <td>0</td>\n",
              "    </tr>\n",
              "  </tbody>\n",
              "</table>\n",
              "<p>10000 rows × 15 columns</p>\n",
              "</div>"
            ],
            "text/plain": [
              "           CreditScore  Gender  ...  NumOfProducts_3  NumOfProducts_4\n",
              "RowNumber                       ...                                  \n",
              "1                0.538       0  ...                0                0\n",
              "2                0.516       0  ...                0                0\n",
              "3                0.304       0  ...                1                0\n",
              "4                0.698       0  ...                0                0\n",
              "5                1.000       0  ...                0                0\n",
              "...                ...     ...  ...              ...              ...\n",
              "9996             0.842       1  ...                0                0\n",
              "9997             0.332       1  ...                0                0\n",
              "9998             0.718       0  ...                0                0\n",
              "9999             0.844       1  ...                0                0\n",
              "10000            0.884       0  ...                0                0\n",
              "\n",
              "[10000 rows x 15 columns]"
            ]
          },
          "metadata": {},
          "execution_count": 23
        }
      ]
    },
    {
      "cell_type": "markdown",
      "metadata": {
        "id": "BCq3tTfIzTM_"
      },
      "source": [
        "#### Dados treino e dados de teste\n",
        "\n",
        "Antes de aplicar os dados ao modelo, precisamos separa-los em dados de treino e dados de teste."
      ]
    },
    {
      "cell_type": "code",
      "metadata": {
        "id": "SGCVxo05yTRU"
      },
      "source": [
        "from sklearn.model_selection import train_test_split\n",
        "x_treino, x_teste, y_treino, y_teste = train_test_split(X_tratados, y, test_size=0.30, random_state=1)"
      ],
      "execution_count": 25,
      "outputs": []
    },
    {
      "cell_type": "markdown",
      "metadata": {
        "id": "YGpQ_Wb6LkXL"
      },
      "source": [
        "### Problema a resolver\n",
        "\n",
        "[Machine Learning: Conceitos e Modelos](https://tatianaesc.medium.com/machine-learning-conceitos-e-modelos-f0373bf4f445)\n",
        "\n",
        "No caso deste problema, a intenção é prever se um cliente vai ou não deixar a empresa, sendo assim, um caso de [classificação](https://awari.com.br/algoritmos-de-classificacao-uma-introducao/), onde o cliente recebe o valor 1 na coluna Exited, caso ele tenha abandonado o banco e 0 caso não tenha abandonado.\n",
        "\n",
        "Sendo um modelo de classificação, algum dos algoritmos que podem ser utilizados são:\n",
        "\n",
        "* [kNN](https://medium.com/brasil-ai/knn-k-nearest-neighbors-1-e140c82e9c4e) - k-nearest neighbours;\n",
        "* Random Forest;\n",
        "* XGBoost;\n",
        "\n",
        "Como existem diversos hiperparâmtros nesses modelos que influencia no resultado final de predição, mas que devem ser selecionados previamente a execução dos mesmos. Uma boa prática é utilizar um algoritmo de [Otimização Bayesiana](https://medium.com/@beniciowg/como-tunar-hiperpar%C3%A2metros-com-otimiza%C3%A7%C3%A3o-bayesiana-5687fd51370f), que procura os melhores parâmetros dentro de um range pré-definido e os aplica aos modelos para otimizar os resultados."
      ]
    },
    {
      "cell_type": "markdown",
      "metadata": {
        "id": "BvoNL3oH9WP6"
      },
      "source": [
        "### [Medidas de performance](https://medium.com/kunumi/m%C3%A9tricas-de-avalia%C3%A7%C3%A3o-em-machine-learning-classifica%C3%A7%C3%A3o-49340dcdb198)\n",
        "\n",
        "\n",
        "\n",
        "Como métricas de avaliação do modelo, será utilizada a matriz de confusão e alguma métricas decorrentes dessa matriz: Acurácia, Precision, Recall.\n",
        "\n",
        "Das 3 métricas citadas, a mais importante para esse modelo será o Recall, que indicara a porcentagem de clientes em que foi realizada um previsão correta a respeito de deixarem o banco."
      ]
    },
    {
      "cell_type": "markdown",
      "metadata": {
        "id": "ipH1Uh3ZGuZY"
      },
      "source": [
        "### Modelos"
      ]
    },
    {
      "cell_type": "code",
      "metadata": {
        "id": "d-dokfDo3rPH"
      },
      "source": [
        "from sklearn.metrics import auc, classification_report, confusion_matrix, precision_recall_curve, recall_score\n",
        "from skopt.space import Real, Categorical, Integer\n",
        "from sklearn.model_selection import StratifiedKFold\n",
        "from skopt import BayesSearchCV\n",
        "from sklearn.neighbors import KNeighborsClassifier\n",
        "from sklearn.ensemble import RandomForestClassifier\n",
        "from xgboost import XGBClassifier\n",
        "from sklearn import svm"
      ],
      "execution_count": 26,
      "outputs": []
    },
    {
      "cell_type": "markdown",
      "metadata": {
        "id": "-IFjInjNyCPL"
      },
      "source": [
        "#### kNN - k-nearest neighbours"
      ]
    },
    {
      "cell_type": "code",
      "metadata": {
        "colab": {
          "base_uri": "https://localhost:8080/"
        },
        "id": "rQyWYvVoyBXS",
        "outputId": "3e2588d9-98ff-4941-8c98-9a545f19c6c8"
      },
      "source": [
        "knn = KNeighborsClassifier()\n",
        "\n",
        "par_range = {'n_neighbors': Integer(1, 50)}\n",
        "\n",
        "cv = StratifiedKFold(n_splits=10, shuffle=True)\n",
        "\n",
        "knn_otm = BayesSearchCV(knn, par_range, random_state=1, cv=cv, return_train_score=True, scoring='recall', refit=True)\n",
        "knn_otm.fit(x_treino, y_treino)"
      ],
      "execution_count": 27,
      "outputs": [
        {
          "output_type": "stream",
          "name": "stderr",
          "text": [
            "/usr/local/lib/python3.7/dist-packages/skopt/optimizer/optimizer.py:449: UserWarning: The objective has been evaluated at this point before.\n",
            "  warnings.warn(\"The objective has been evaluated \"\n",
            "/usr/local/lib/python3.7/dist-packages/skopt/optimizer/optimizer.py:449: UserWarning: The objective has been evaluated at this point before.\n",
            "  warnings.warn(\"The objective has been evaluated \"\n",
            "/usr/local/lib/python3.7/dist-packages/skopt/optimizer/optimizer.py:449: UserWarning: The objective has been evaluated at this point before.\n",
            "  warnings.warn(\"The objective has been evaluated \"\n",
            "/usr/local/lib/python3.7/dist-packages/skopt/optimizer/optimizer.py:449: UserWarning: The objective has been evaluated at this point before.\n",
            "  warnings.warn(\"The objective has been evaluated \"\n",
            "/usr/local/lib/python3.7/dist-packages/skopt/optimizer/optimizer.py:449: UserWarning: The objective has been evaluated at this point before.\n",
            "  warnings.warn(\"The objective has been evaluated \"\n",
            "/usr/local/lib/python3.7/dist-packages/skopt/optimizer/optimizer.py:449: UserWarning: The objective has been evaluated at this point before.\n",
            "  warnings.warn(\"The objective has been evaluated \"\n",
            "/usr/local/lib/python3.7/dist-packages/skopt/optimizer/optimizer.py:449: UserWarning: The objective has been evaluated at this point before.\n",
            "  warnings.warn(\"The objective has been evaluated \"\n",
            "/usr/local/lib/python3.7/dist-packages/skopt/optimizer/optimizer.py:449: UserWarning: The objective has been evaluated at this point before.\n",
            "  warnings.warn(\"The objective has been evaluated \"\n",
            "/usr/local/lib/python3.7/dist-packages/skopt/optimizer/optimizer.py:449: UserWarning: The objective has been evaluated at this point before.\n",
            "  warnings.warn(\"The objective has been evaluated \"\n",
            "/usr/local/lib/python3.7/dist-packages/skopt/optimizer/optimizer.py:449: UserWarning: The objective has been evaluated at this point before.\n",
            "  warnings.warn(\"The objective has been evaluated \"\n",
            "/usr/local/lib/python3.7/dist-packages/skopt/optimizer/optimizer.py:449: UserWarning: The objective has been evaluated at this point before.\n",
            "  warnings.warn(\"The objective has been evaluated \"\n",
            "/usr/local/lib/python3.7/dist-packages/skopt/optimizer/optimizer.py:449: UserWarning: The objective has been evaluated at this point before.\n",
            "  warnings.warn(\"The objective has been evaluated \"\n",
            "/usr/local/lib/python3.7/dist-packages/skopt/optimizer/optimizer.py:449: UserWarning: The objective has been evaluated at this point before.\n",
            "  warnings.warn(\"The objective has been evaluated \"\n",
            "/usr/local/lib/python3.7/dist-packages/skopt/optimizer/optimizer.py:449: UserWarning: The objective has been evaluated at this point before.\n",
            "  warnings.warn(\"The objective has been evaluated \"\n",
            "/usr/local/lib/python3.7/dist-packages/skopt/optimizer/optimizer.py:449: UserWarning: The objective has been evaluated at this point before.\n",
            "  warnings.warn(\"The objective has been evaluated \"\n",
            "/usr/local/lib/python3.7/dist-packages/skopt/optimizer/optimizer.py:449: UserWarning: The objective has been evaluated at this point before.\n",
            "  warnings.warn(\"The objective has been evaluated \"\n",
            "/usr/local/lib/python3.7/dist-packages/skopt/optimizer/optimizer.py:449: UserWarning: The objective has been evaluated at this point before.\n",
            "  warnings.warn(\"The objective has been evaluated \"\n",
            "/usr/local/lib/python3.7/dist-packages/skopt/optimizer/optimizer.py:449: UserWarning: The objective has been evaluated at this point before.\n",
            "  warnings.warn(\"The objective has been evaluated \"\n",
            "/usr/local/lib/python3.7/dist-packages/skopt/optimizer/optimizer.py:449: UserWarning: The objective has been evaluated at this point before.\n",
            "  warnings.warn(\"The objective has been evaluated \"\n",
            "/usr/local/lib/python3.7/dist-packages/skopt/optimizer/optimizer.py:449: UserWarning: The objective has been evaluated at this point before.\n",
            "  warnings.warn(\"The objective has been evaluated \"\n",
            "/usr/local/lib/python3.7/dist-packages/skopt/optimizer/optimizer.py:449: UserWarning: The objective has been evaluated at this point before.\n",
            "  warnings.warn(\"The objective has been evaluated \"\n",
            "/usr/local/lib/python3.7/dist-packages/skopt/optimizer/optimizer.py:449: UserWarning: The objective has been evaluated at this point before.\n",
            "  warnings.warn(\"The objective has been evaluated \"\n",
            "/usr/local/lib/python3.7/dist-packages/skopt/optimizer/optimizer.py:449: UserWarning: The objective has been evaluated at this point before.\n",
            "  warnings.warn(\"The objective has been evaluated \"\n",
            "/usr/local/lib/python3.7/dist-packages/skopt/optimizer/optimizer.py:449: UserWarning: The objective has been evaluated at this point before.\n",
            "  warnings.warn(\"The objective has been evaluated \"\n",
            "/usr/local/lib/python3.7/dist-packages/skopt/optimizer/optimizer.py:449: UserWarning: The objective has been evaluated at this point before.\n",
            "  warnings.warn(\"The objective has been evaluated \"\n",
            "/usr/local/lib/python3.7/dist-packages/skopt/optimizer/optimizer.py:449: UserWarning: The objective has been evaluated at this point before.\n",
            "  warnings.warn(\"The objective has been evaluated \"\n",
            "/usr/local/lib/python3.7/dist-packages/skopt/optimizer/optimizer.py:449: UserWarning: The objective has been evaluated at this point before.\n",
            "  warnings.warn(\"The objective has been evaluated \"\n",
            "/usr/local/lib/python3.7/dist-packages/skopt/optimizer/optimizer.py:449: UserWarning: The objective has been evaluated at this point before.\n",
            "  warnings.warn(\"The objective has been evaluated \"\n",
            "/usr/local/lib/python3.7/dist-packages/skopt/optimizer/optimizer.py:449: UserWarning: The objective has been evaluated at this point before.\n",
            "  warnings.warn(\"The objective has been evaluated \"\n",
            "/usr/local/lib/python3.7/dist-packages/skopt/optimizer/optimizer.py:449: UserWarning: The objective has been evaluated at this point before.\n",
            "  warnings.warn(\"The objective has been evaluated \"\n",
            "/usr/local/lib/python3.7/dist-packages/skopt/optimizer/optimizer.py:449: UserWarning: The objective has been evaluated at this point before.\n",
            "  warnings.warn(\"The objective has been evaluated \"\n",
            "/usr/local/lib/python3.7/dist-packages/skopt/optimizer/optimizer.py:449: UserWarning: The objective has been evaluated at this point before.\n",
            "  warnings.warn(\"The objective has been evaluated \"\n",
            "/usr/local/lib/python3.7/dist-packages/skopt/optimizer/optimizer.py:449: UserWarning: The objective has been evaluated at this point before.\n",
            "  warnings.warn(\"The objective has been evaluated \"\n",
            "/usr/local/lib/python3.7/dist-packages/skopt/optimizer/optimizer.py:449: UserWarning: The objective has been evaluated at this point before.\n",
            "  warnings.warn(\"The objective has been evaluated \"\n",
            "/usr/local/lib/python3.7/dist-packages/skopt/optimizer/optimizer.py:449: UserWarning: The objective has been evaluated at this point before.\n",
            "  warnings.warn(\"The objective has been evaluated \"\n",
            "/usr/local/lib/python3.7/dist-packages/skopt/optimizer/optimizer.py:449: UserWarning: The objective has been evaluated at this point before.\n",
            "  warnings.warn(\"The objective has been evaluated \"\n",
            "/usr/local/lib/python3.7/dist-packages/skopt/optimizer/optimizer.py:449: UserWarning: The objective has been evaluated at this point before.\n",
            "  warnings.warn(\"The objective has been evaluated \"\n",
            "/usr/local/lib/python3.7/dist-packages/skopt/optimizer/optimizer.py:449: UserWarning: The objective has been evaluated at this point before.\n",
            "  warnings.warn(\"The objective has been evaluated \"\n"
          ]
        },
        {
          "output_type": "stream",
          "name": "stdout",
          "text": [
            "Recall: 0.46\n"
          ]
        }
      ]
    },
    {
      "cell_type": "code",
      "metadata": {
        "id": "YLv0aIHK8rWP"
      },
      "source": [
        "knn_pred = knn_otm.predict(x_teste)"
      ],
      "execution_count": 28,
      "outputs": []
    },
    {
      "cell_type": "code",
      "metadata": {
        "colab": {
          "base_uri": "https://localhost:8080/",
          "height": 515
        },
        "id": "rYJU6JZt8tSm",
        "outputId": "3f022987-277a-4703-dbc0-733967d5357b"
      },
      "source": [
        "print(classification_report(y_teste, knn_pred))\n",
        "skplt.metrics.plot_confusion_matrix(y_teste, knn_pred, figsize=(6,6), normalize=True);"
      ],
      "execution_count": 29,
      "outputs": [
        {
          "output_type": "stream",
          "name": "stdout",
          "text": [
            "              precision    recall  f1-score   support\n",
            "\n",
            "           0       0.85      0.89      0.87      2373\n",
            "           1       0.49      0.41      0.45       627\n",
            "\n",
            "    accuracy                           0.79      3000\n",
            "   macro avg       0.67      0.65      0.66      3000\n",
            "weighted avg       0.78      0.79      0.78      3000\n",
            "\n"
          ]
        },
        {
          "output_type": "display_data",
          "data": {
            "image/png": "[encoded data removed]",
            "text/plain": [
              "<Figure size 432x432 with 2 Axes>"
            ]
          },
          "metadata": {
            "needs_background": "light"
          }
        }
      ]
    },
    {
      "cell_type": "markdown",
      "metadata": {
        "id": "q-lCv5GYJzUD"
      },
      "source": [
        "Na matriz acima é possível verificar que o modelo é muito bom em prever os casos em que o cliente não abandona o banco, contudo, possui valor baixo de recall para os clientes que abandonaram o banco, 41%. Não sendo o modelo indicado para ser aplicado nessa classificação."
      ]
    },
    {
      "cell_type": "markdown",
      "metadata": {
        "id": "TmUVn7BKqm8v"
      },
      "source": [
        "#### Random Forest"
      ]
    },
    {
      "cell_type": "code",
      "metadata": {
        "id": "B3gze66Mqqnf",
        "colab": {
          "base_uri": "https://localhost:8080/"
        },
        "outputId": "0ac591fc-438c-4679-e12e-563ad92a16bb"
      },
      "source": [
        "rf = RandomForestClassifier(random_state=4)\n",
        "\n",
        "par_range = {'max_depth': Integer(20, 30),\n",
        "             'n_estimators': Integer(100, 1000),\n",
        "             'min_samples_split': Integer(2, 100),\n",
        "             'min_samples_leaf': Integer(1, 10),\n",
        "             'max_features': Integer(1, 5)}\n",
        "\n",
        "cv = StratifiedKFold(n_splits=10, shuffle=True)\n",
        "\n",
        "rf_otm = BayesSearchCV(rf, par_range, random_state=4, cv=cv, return_train_score=True, scoring='recall', refit=True)\n",
        "rf_otm.fit(x_treino, y_treino)"
      ],
      "execution_count": 30,
      "outputs": [
        {
          "output_type": "stream",
          "name": "stderr",
          "text": [
            "/usr/local/lib/python3.7/dist-packages/skopt/optimizer/optimizer.py:449: UserWarning: The objective has been evaluated at this point before.\n",
            "  warnings.warn(\"The objective has been evaluated \"\n",
            "/usr/local/lib/python3.7/dist-packages/skopt/optimizer/optimizer.py:449: UserWarning: The objective has been evaluated at this point before.\n",
            "  warnings.warn(\"The objective has been evaluated \"\n",
            "/usr/local/lib/python3.7/dist-packages/skopt/optimizer/optimizer.py:449: UserWarning: The objective has been evaluated at this point before.\n",
            "  warnings.warn(\"The objective has been evaluated \"\n",
            "/usr/local/lib/python3.7/dist-packages/skopt/optimizer/optimizer.py:449: UserWarning: The objective has been evaluated at this point before.\n",
            "  warnings.warn(\"The objective has been evaluated \"\n",
            "/usr/local/lib/python3.7/dist-packages/skopt/optimizer/optimizer.py:449: UserWarning: The objective has been evaluated at this point before.\n",
            "  warnings.warn(\"The objective has been evaluated \"\n",
            "/usr/local/lib/python3.7/dist-packages/skopt/optimizer/optimizer.py:449: UserWarning: The objective has been evaluated at this point before.\n",
            "  warnings.warn(\"The objective has been evaluated \"\n",
            "/usr/local/lib/python3.7/dist-packages/skopt/optimizer/optimizer.py:449: UserWarning: The objective has been evaluated at this point before.\n",
            "  warnings.warn(\"The objective has been evaluated \"\n",
            "/usr/local/lib/python3.7/dist-packages/skopt/optimizer/optimizer.py:449: UserWarning: The objective has been evaluated at this point before.\n",
            "  warnings.warn(\"The objective has been evaluated \"\n",
            "/usr/local/lib/python3.7/dist-packages/skopt/optimizer/optimizer.py:449: UserWarning: The objective has been evaluated at this point before.\n",
            "  warnings.warn(\"The objective has been evaluated \"\n",
            "/usr/local/lib/python3.7/dist-packages/skopt/optimizer/optimizer.py:449: UserWarning: The objective has been evaluated at this point before.\n",
            "  warnings.warn(\"The objective has been evaluated \"\n",
            "/usr/local/lib/python3.7/dist-packages/skopt/optimizer/optimizer.py:449: UserWarning: The objective has been evaluated at this point before.\n",
            "  warnings.warn(\"The objective has been evaluated \"\n"
          ]
        },
        {
          "output_type": "stream",
          "name": "stdout",
          "text": [
            "Recall: 0.48\n"
          ]
        }
      ]
    },
    {
      "cell_type": "code",
      "metadata": {
        "id": "tscp1ipwrFNZ"
      },
      "source": [
        "rf_pred = rf_otm.predict(x_teste)"
      ],
      "execution_count": 31,
      "outputs": []
    },
    {
      "cell_type": "code",
      "metadata": {
        "id": "1mO9zM1yrWaR",
        "colab": {
          "base_uri": "https://localhost:8080/",
          "height": 515
        },
        "outputId": "1271e5dc-a267-4bef-b918-5ac4e0790582"
      },
      "source": [
        "print(classification_report(y_teste, rf_pred))\n",
        "skplt.metrics.plot_confusion_matrix(y_teste, rf_pred, figsize=(6,6), normalize=True);"
      ],
      "execution_count": 32,
      "outputs": [
        {
          "output_type": "stream",
          "name": "stdout",
          "text": [
            "              precision    recall  f1-score   support\n",
            "\n",
            "           0       0.87      0.96      0.91      2373\n",
            "           1       0.76      0.48      0.59       627\n",
            "\n",
            "    accuracy                           0.86      3000\n",
            "   macro avg       0.82      0.72      0.75      3000\n",
            "weighted avg       0.85      0.86      0.85      3000\n",
            "\n"
          ]
        },
        {
          "output_type": "display_data",
          "data": {
            "image/png": "[encoded data removed]",
            "text/plain": [
              "<Figure size 432x432 with 2 Axes>"
            ]
          },
          "metadata": {
            "needs_background": "light"
          }
        }
      ]
    },
    {
      "cell_type": "markdown",
      "metadata": {
        "id": "Iyzc0bnauHI6"
      },
      "source": [
        "Apesar de obter recall melhor que o modelo kNN, o modelo Random Forest ainda possui valor de apenas 48% de acerto para os clientes que realmente abandonaram o banco."
      ]
    },
    {
      "cell_type": "markdown",
      "metadata": {
        "id": "3L7EV59guuAU"
      },
      "source": [
        "#### XG Boost"
      ]
    },
    {
      "cell_type": "code",
      "metadata": {
        "colab": {
          "base_uri": "https://localhost:8080/"
        },
        "id": "R-6K6ao_v1Zh",
        "outputId": "5e7a9089-2b15-43a8-8ae6-7bb723424105"
      },
      "source": [
        "xgb = XGBClassifier(random_state=1)\n",
        "\n",
        "par_range = {'max_depth': Integer(1, 30),\n",
        "             'learning_rate': Real(1e-3, 1e-1, 'log-uniform'),\n",
        "             'gamma': Real(0.05, 1.0, 'log-uniform'),\n",
        "             'min_child_weight': Integer(1, 50),\n",
        "             'subsample': Real(0.05, 1.0),\n",
        "             'colsample_bytree': Real(0.06, 1.0)}\n",
        "\n",
        "cv = StratifiedKFold(n_splits=10, shuffle=True)\n",
        "\n",
        "xgb_otm = BayesSearchCV(xgb, par_range, random_state=1, cv=cv, return_train_score=True, scoring='recall', refit=True)\n",
        "xgb_otm.fit(x_treino, y_treino)"
      ],
      "execution_count": 33,
      "outputs": [
        {
          "output_type": "stream",
          "name": "stdout",
          "text": [
            "Recall: 0.48\n"
          ]
        }
      ]
    },
    {
      "cell_type": "code",
      "metadata": {
        "id": "Q0f0G1x1wDnh"
      },
      "source": [
        "xgb_pred = xgb_otm.predict(x_teste)"
      ],
      "execution_count": 34,
      "outputs": []
    },
    {
      "cell_type": "code",
      "metadata": {
        "colab": {
          "base_uri": "https://localhost:8080/",
          "height": 515
        },
        "id": "n5BC_IyBwZQJ",
        "outputId": "e4114621-4260-4223-81c1-82c454415ee2"
      },
      "source": [
        "print(classification_report(y_teste, xgb_pred))\n",
        "skplt.metrics.plot_confusion_matrix(y_teste, xgb_pred, figsize=(6,6), normalize=True);"
      ],
      "execution_count": 35,
      "outputs": [
        {
          "output_type": "stream",
          "name": "stdout",
          "text": [
            "              precision    recall  f1-score   support\n",
            "\n",
            "           0       0.88      0.96      0.92      2373\n",
            "           1       0.76      0.51      0.61       627\n",
            "\n",
            "    accuracy                           0.86      3000\n",
            "   macro avg       0.82      0.73      0.76      3000\n",
            "weighted avg       0.86      0.86      0.85      3000\n",
            "\n"
          ]
        },
        {
          "output_type": "display_data",
          "data": {
            "image/png": "[encoded data removed]",
            "text/plain": [
              "<Figure size 432x432 with 2 Axes>"
            ]
          },
          "metadata": {
            "needs_background": "light"
          }
        }
      ]
    },
    {
      "cell_type": "markdown",
      "metadata": {
        "id": "1v5ZJEQpG0ig"
      },
      "source": [
        "O modelo XG boost otimizado alcançou recall de 51%, sendo superior ao modelo Random Forest.\n",
        "\n",
        "Apesar de não possuir um valor satisfatório de previsão de churn, foi o modelo que melhor o previu."
      ]
    },
    {
      "cell_type": "markdown",
      "metadata": {
        "id": "joCJih-dHDWB"
      },
      "source": [
        "# Entrega Final\n",
        "\n",
        "A entrega final consiste em aplicar o melhor modelo testado, no arquivo Abandono_teste.csv.\n",
        "\n",
        "O resultado final deve ser uma planilha com apenas duas colunas, rowNumber e predictedValues"
      ]
    },
    {
      "cell_type": "code",
      "metadata": {
        "colab": {
          "base_uri": "https://localhost:8080/",
          "height": 206
        },
        "id": "cz-ZMo3wJ4vs",
        "outputId": "72fecf1e-98e3-47c4-ec81-123766a4a400"
      },
      "source": [
        "url_teste = 'https://raw.githubusercontent.com/gdomingosg/Desafio_Cientista_de_Dados/main/Abandono_teste.csv'\n",
        "df_teste = pd.read_csv(url_teste, sep=';')\n",
        "df_teste.head()"
      ],
      "execution_count": 39,
      "outputs": [
        {
          "output_type": "execute_result",
          "data": {
            "text/html": [
              "<div>\n",
              "<style scoped>\n",
              "    .dataframe tbody tr th:only-of-type {\n",
              "        vertical-align: middle;\n",
              "    }\n",
              "\n",
              "    .dataframe tbody tr th {\n",
              "        vertical-align: top;\n",
              "    }\n",
              "\n",
              "    .dataframe thead th {\n",
              "        text-align: right;\n",
              "    }\n",
              "</style>\n",
              "<table border=\"1\" class=\"dataframe\">\n",
              "  <thead>\n",
              "    <tr style=\"text-align: right;\">\n",
              "      <th></th>\n",
              "      <th>RowNumber</th>\n",
              "      <th>CustomerId</th>\n",
              "      <th>Surname</th>\n",
              "      <th>CreditScore</th>\n",
              "      <th>Geography</th>\n",
              "      <th>Gender</th>\n",
              "      <th>Age</th>\n",
              "      <th>Tenure</th>\n",
              "      <th>Balance</th>\n",
              "      <th>NumOfProducts</th>\n",
              "      <th>HasCrCard</th>\n",
              "      <th>IsActiveMember</th>\n",
              "      <th>EstimatedSalary</th>\n",
              "    </tr>\n",
              "  </thead>\n",
              "  <tbody>\n",
              "    <tr>\n",
              "      <th>0</th>\n",
              "      <td>10001</td>\n",
              "      <td>15798485</td>\n",
              "      <td>Copley</td>\n",
              "      <td>565</td>\n",
              "      <td>France</td>\n",
              "      <td>Male</td>\n",
              "      <td>31</td>\n",
              "      <td>1</td>\n",
              "      <td>0.00</td>\n",
              "      <td>1</td>\n",
              "      <td>0</td>\n",
              "      <td>1</td>\n",
              "      <td>20443.08</td>\n",
              "    </tr>\n",
              "    <tr>\n",
              "      <th>1</th>\n",
              "      <td>10002</td>\n",
              "      <td>15588959</td>\n",
              "      <td>T'ang</td>\n",
              "      <td>569</td>\n",
              "      <td>France</td>\n",
              "      <td>Male</td>\n",
              "      <td>34</td>\n",
              "      <td>4</td>\n",
              "      <td>0.00</td>\n",
              "      <td>1</td>\n",
              "      <td>0</td>\n",
              "      <td>1</td>\n",
              "      <td>4045.90</td>\n",
              "    </tr>\n",
              "    <tr>\n",
              "      <th>2</th>\n",
              "      <td>10003</td>\n",
              "      <td>15624896</td>\n",
              "      <td>Ku</td>\n",
              "      <td>669</td>\n",
              "      <td>France</td>\n",
              "      <td>Female</td>\n",
              "      <td>20</td>\n",
              "      <td>7</td>\n",
              "      <td>0.00</td>\n",
              "      <td>2</td>\n",
              "      <td>1</td>\n",
              "      <td>0</td>\n",
              "      <td>128838.67</td>\n",
              "    </tr>\n",
              "    <tr>\n",
              "      <th>3</th>\n",
              "      <td>10004</td>\n",
              "      <td>15639629</td>\n",
              "      <td>McConnan</td>\n",
              "      <td>694</td>\n",
              "      <td>France</td>\n",
              "      <td>Male</td>\n",
              "      <td>39</td>\n",
              "      <td>4</td>\n",
              "      <td>173255.48</td>\n",
              "      <td>1</td>\n",
              "      <td>1</td>\n",
              "      <td>1</td>\n",
              "      <td>81293.10</td>\n",
              "    </tr>\n",
              "    <tr>\n",
              "      <th>4</th>\n",
              "      <td>10005</td>\n",
              "      <td>15638852</td>\n",
              "      <td>Ts'ui</td>\n",
              "      <td>504</td>\n",
              "      <td>Spain</td>\n",
              "      <td>Male</td>\n",
              "      <td>28</td>\n",
              "      <td>10</td>\n",
              "      <td>109291.36</td>\n",
              "      <td>1</td>\n",
              "      <td>1</td>\n",
              "      <td>1</td>\n",
              "      <td>187593.15</td>\n",
              "    </tr>\n",
              "  </tbody>\n",
              "</table>\n",
              "</div>"
            ],
            "text/plain": [
              "   RowNumber  CustomerId   Surname  ...  HasCrCard IsActiveMember EstimatedSalary\n",
              "0      10001    15798485    Copley  ...          0              1        20443.08\n",
              "1      10002    15588959     T'ang  ...          0              1         4045.90\n",
              "2      10003    15624896        Ku  ...          1              0       128838.67\n",
              "3      10004    15639629  McConnan  ...          1              1        81293.10\n",
              "4      10005    15638852     Ts'ui  ...          1              1       187593.15\n",
              "\n",
              "[5 rows x 13 columns]"
            ]
          },
          "metadata": {},
          "execution_count": 39
        }
      ]
    },
    {
      "cell_type": "code",
      "metadata": {
        "id": "js2Zlb2DLTD6"
      },
      "source": [
        "df_teste.set_index('RowNumber', inplace=True)\n",
        "df_teste.drop(columns=['CustomerId', 'Surname'], inplace=True)"
      ],
      "execution_count": 41,
      "outputs": []
    },
    {
      "cell_type": "code",
      "metadata": {
        "colab": {
          "base_uri": "https://localhost:8080/",
          "height": 394
        },
        "id": "CRcvxxpRKZwr",
        "outputId": "eeba7700-e98c-4e0c-90e7-5038ede840cd"
      },
      "source": [
        "df_teste['Gender'] = df_teste['Gender'].replace(['Female', 'Male'], [0, 1])\n",
        "\n",
        "teste_cat_tratados = pd.get_dummies(data=df_teste, columns=['Geography', 'NumOfProducts'])\n",
        "teste_cat_tratados.head(10)"
      ],
      "execution_count": 42,
      "outputs": [
        {
          "output_type": "execute_result",
          "data": {
            "text/html": [
              "<div>\n",
              "<style scoped>\n",
              "    .dataframe tbody tr th:only-of-type {\n",
              "        vertical-align: middle;\n",
              "    }\n",
              "\n",
              "    .dataframe tbody tr th {\n",
              "        vertical-align: top;\n",
              "    }\n",
              "\n",
              "    .dataframe thead th {\n",
              "        text-align: right;\n",
              "    }\n",
              "</style>\n",
              "<table border=\"1\" class=\"dataframe\">\n",
              "  <thead>\n",
              "    <tr style=\"text-align: right;\">\n",
              "      <th></th>\n",
              "      <th>CreditScore</th>\n",
              "      <th>Gender</th>\n",
              "      <th>Age</th>\n",
              "      <th>Tenure</th>\n",
              "      <th>Balance</th>\n",
              "      <th>HasCrCard</th>\n",
              "      <th>IsActiveMember</th>\n",
              "      <th>EstimatedSalary</th>\n",
              "      <th>Geography_France</th>\n",
              "      <th>Geography_Germany</th>\n",
              "      <th>Geography_Spain</th>\n",
              "      <th>NumOfProducts_1</th>\n",
              "      <th>NumOfProducts_2</th>\n",
              "      <th>NumOfProducts_3</th>\n",
              "      <th>NumOfProducts_4</th>\n",
              "    </tr>\n",
              "    <tr>\n",
              "      <th>RowNumber</th>\n",
              "      <th></th>\n",
              "      <th></th>\n",
              "      <th></th>\n",
              "      <th></th>\n",
              "      <th></th>\n",
              "      <th></th>\n",
              "      <th></th>\n",
              "      <th></th>\n",
              "      <th></th>\n",
              "      <th></th>\n",
              "      <th></th>\n",
              "      <th></th>\n",
              "      <th></th>\n",
              "      <th></th>\n",
              "      <th></th>\n",
              "    </tr>\n",
              "  </thead>\n",
              "  <tbody>\n",
              "    <tr>\n",
              "      <th>10001</th>\n",
              "      <td>565</td>\n",
              "      <td>1</td>\n",
              "      <td>31</td>\n",
              "      <td>1</td>\n",
              "      <td>0.00</td>\n",
              "      <td>0</td>\n",
              "      <td>1</td>\n",
              "      <td>20443.08</td>\n",
              "      <td>1</td>\n",
              "      <td>0</td>\n",
              "      <td>0</td>\n",
              "      <td>1</td>\n",
              "      <td>0</td>\n",
              "      <td>0</td>\n",
              "      <td>0</td>\n",
              "    </tr>\n",
              "    <tr>\n",
              "      <th>10002</th>\n",
              "      <td>569</td>\n",
              "      <td>1</td>\n",
              "      <td>34</td>\n",
              "      <td>4</td>\n",
              "      <td>0.00</td>\n",
              "      <td>0</td>\n",
              "      <td>1</td>\n",
              "      <td>4045.90</td>\n",
              "      <td>1</td>\n",
              "      <td>0</td>\n",
              "      <td>0</td>\n",
              "      <td>1</td>\n",
              "      <td>0</td>\n",
              "      <td>0</td>\n",
              "      <td>0</td>\n",
              "    </tr>\n",
              "    <tr>\n",
              "      <th>10003</th>\n",
              "      <td>669</td>\n",
              "      <td>0</td>\n",
              "      <td>20</td>\n",
              "      <td>7</td>\n",
              "      <td>0.00</td>\n",
              "      <td>1</td>\n",
              "      <td>0</td>\n",
              "      <td>128838.67</td>\n",
              "      <td>1</td>\n",
              "      <td>0</td>\n",
              "      <td>0</td>\n",
              "      <td>0</td>\n",
              "      <td>1</td>\n",
              "      <td>0</td>\n",
              "      <td>0</td>\n",
              "    </tr>\n",
              "    <tr>\n",
              "      <th>10004</th>\n",
              "      <td>694</td>\n",
              "      <td>1</td>\n",
              "      <td>39</td>\n",
              "      <td>4</td>\n",
              "      <td>173255.48</td>\n",
              "      <td>1</td>\n",
              "      <td>1</td>\n",
              "      <td>81293.10</td>\n",
              "      <td>1</td>\n",
              "      <td>0</td>\n",
              "      <td>0</td>\n",
              "      <td>1</td>\n",
              "      <td>0</td>\n",
              "      <td>0</td>\n",
              "      <td>0</td>\n",
              "    </tr>\n",
              "    <tr>\n",
              "      <th>10005</th>\n",
              "      <td>504</td>\n",
              "      <td>1</td>\n",
              "      <td>28</td>\n",
              "      <td>10</td>\n",
              "      <td>109291.36</td>\n",
              "      <td>1</td>\n",
              "      <td>1</td>\n",
              "      <td>187593.15</td>\n",
              "      <td>0</td>\n",
              "      <td>0</td>\n",
              "      <td>1</td>\n",
              "      <td>1</td>\n",
              "      <td>0</td>\n",
              "      <td>0</td>\n",
              "      <td>0</td>\n",
              "    </tr>\n",
              "    <tr>\n",
              "      <th>10006</th>\n",
              "      <td>776</td>\n",
              "      <td>1</td>\n",
              "      <td>29</td>\n",
              "      <td>4</td>\n",
              "      <td>0.00</td>\n",
              "      <td>0</td>\n",
              "      <td>1</td>\n",
              "      <td>88440.83</td>\n",
              "      <td>1</td>\n",
              "      <td>0</td>\n",
              "      <td>0</td>\n",
              "      <td>0</td>\n",
              "      <td>1</td>\n",
              "      <td>0</td>\n",
              "      <td>0</td>\n",
              "    </tr>\n",
              "    <tr>\n",
              "      <th>10007</th>\n",
              "      <td>585</td>\n",
              "      <td>1</td>\n",
              "      <td>25</td>\n",
              "      <td>7</td>\n",
              "      <td>159301.00</td>\n",
              "      <td>1</td>\n",
              "      <td>1</td>\n",
              "      <td>39824.96</td>\n",
              "      <td>1</td>\n",
              "      <td>0</td>\n",
              "      <td>0</td>\n",
              "      <td>1</td>\n",
              "      <td>0</td>\n",
              "      <td>0</td>\n",
              "      <td>0</td>\n",
              "    </tr>\n",
              "    <tr>\n",
              "      <th>10008</th>\n",
              "      <td>651</td>\n",
              "      <td>1</td>\n",
              "      <td>24</td>\n",
              "      <td>5</td>\n",
              "      <td>158484.85</td>\n",
              "      <td>1</td>\n",
              "      <td>1</td>\n",
              "      <td>161234.90</td>\n",
              "      <td>0</td>\n",
              "      <td>1</td>\n",
              "      <td>0</td>\n",
              "      <td>1</td>\n",
              "      <td>0</td>\n",
              "      <td>0</td>\n",
              "      <td>0</td>\n",
              "    </tr>\n",
              "    <tr>\n",
              "      <th>10009</th>\n",
              "      <td>672</td>\n",
              "      <td>1</td>\n",
              "      <td>45</td>\n",
              "      <td>7</td>\n",
              "      <td>0.00</td>\n",
              "      <td>0</td>\n",
              "      <td>0</td>\n",
              "      <td>174177.96</td>\n",
              "      <td>1</td>\n",
              "      <td>0</td>\n",
              "      <td>0</td>\n",
              "      <td>0</td>\n",
              "      <td>1</td>\n",
              "      <td>0</td>\n",
              "      <td>0</td>\n",
              "    </tr>\n",
              "    <tr>\n",
              "      <th>10010</th>\n",
              "      <td>527</td>\n",
              "      <td>1</td>\n",
              "      <td>23</td>\n",
              "      <td>8</td>\n",
              "      <td>0.00</td>\n",
              "      <td>1</td>\n",
              "      <td>0</td>\n",
              "      <td>76589.04</td>\n",
              "      <td>1</td>\n",
              "      <td>0</td>\n",
              "      <td>0</td>\n",
              "      <td>0</td>\n",
              "      <td>1</td>\n",
              "      <td>0</td>\n",
              "      <td>0</td>\n",
              "    </tr>\n",
              "  </tbody>\n",
              "</table>\n",
              "</div>"
            ],
            "text/plain": [
              "           CreditScore  Gender  ...  NumOfProducts_3  NumOfProducts_4\n",
              "RowNumber                       ...                                  \n",
              "10001              565       1  ...                0                0\n",
              "10002              569       1  ...                0                0\n",
              "10003              669       0  ...                0                0\n",
              "10004              694       1  ...                0                0\n",
              "10005              504       1  ...                0                0\n",
              "10006              776       1  ...                0                0\n",
              "10007              585       1  ...                0                0\n",
              "10008              651       1  ...                0                0\n",
              "10009              672       1  ...                0                0\n",
              "10010              527       1  ...                0                0\n",
              "\n",
              "[10 rows x 15 columns]"
            ]
          },
          "metadata": {},
          "execution_count": 42
        }
      ]
    },
    {
      "cell_type": "code",
      "metadata": {
        "id": "4_gmT6lkKruT"
      },
      "source": [
        "col_numericas = ['Age', 'CreditScore', 'Balance', 'EstimatedSalary', 'Tenure']"
      ],
      "execution_count": 43,
      "outputs": []
    },
    {
      "cell_type": "code",
      "metadata": {
        "colab": {
          "base_uri": "https://localhost:8080/",
          "height": 394
        },
        "id": "oJHx1LX-Kw8q",
        "outputId": "9c7ad15c-920b-4376-9776-2550111872bd"
      },
      "source": [
        "teste_cat_tratados[col_numericas] = MinMaxScaler().fit_transform(teste_cat_tratados[col_numericas])\n",
        "teste_tratados = teste_cat_tratados\n",
        "teste_tratados.head(10)"
      ],
      "execution_count": 44,
      "outputs": [
        {
          "output_type": "execute_result",
          "data": {
            "text/html": [
              "<div>\n",
              "<style scoped>\n",
              "    .dataframe tbody tr th:only-of-type {\n",
              "        vertical-align: middle;\n",
              "    }\n",
              "\n",
              "    .dataframe tbody tr th {\n",
              "        vertical-align: top;\n",
              "    }\n",
              "\n",
              "    .dataframe thead th {\n",
              "        text-align: right;\n",
              "    }\n",
              "</style>\n",
              "<table border=\"1\" class=\"dataframe\">\n",
              "  <thead>\n",
              "    <tr style=\"text-align: right;\">\n",
              "      <th></th>\n",
              "      <th>CreditScore</th>\n",
              "      <th>Gender</th>\n",
              "      <th>Age</th>\n",
              "      <th>Tenure</th>\n",
              "      <th>Balance</th>\n",
              "      <th>HasCrCard</th>\n",
              "      <th>IsActiveMember</th>\n",
              "      <th>EstimatedSalary</th>\n",
              "      <th>Geography_France</th>\n",
              "      <th>Geography_Germany</th>\n",
              "      <th>Geography_Spain</th>\n",
              "      <th>NumOfProducts_1</th>\n",
              "      <th>NumOfProducts_2</th>\n",
              "      <th>NumOfProducts_3</th>\n",
              "      <th>NumOfProducts_4</th>\n",
              "    </tr>\n",
              "    <tr>\n",
              "      <th>RowNumber</th>\n",
              "      <th></th>\n",
              "      <th></th>\n",
              "      <th></th>\n",
              "      <th></th>\n",
              "      <th></th>\n",
              "      <th></th>\n",
              "      <th></th>\n",
              "      <th></th>\n",
              "      <th></th>\n",
              "      <th></th>\n",
              "      <th></th>\n",
              "      <th></th>\n",
              "      <th></th>\n",
              "      <th></th>\n",
              "      <th></th>\n",
              "    </tr>\n",
              "  </thead>\n",
              "  <tbody>\n",
              "    <tr>\n",
              "      <th>10001</th>\n",
              "      <td>0.411157</td>\n",
              "      <td>1</td>\n",
              "      <td>0.178082</td>\n",
              "      <td>0.1</td>\n",
              "      <td>0.000000</td>\n",
              "      <td>0</td>\n",
              "      <td>1</td>\n",
              "      <td>0.101298</td>\n",
              "      <td>1</td>\n",
              "      <td>0</td>\n",
              "      <td>0</td>\n",
              "      <td>1</td>\n",
              "      <td>0</td>\n",
              "      <td>0</td>\n",
              "      <td>0</td>\n",
              "    </tr>\n",
              "    <tr>\n",
              "      <th>10002</th>\n",
              "      <td>0.419421</td>\n",
              "      <td>1</td>\n",
              "      <td>0.219178</td>\n",
              "      <td>0.4</td>\n",
              "      <td>0.000000</td>\n",
              "      <td>0</td>\n",
              "      <td>1</td>\n",
              "      <td>0.019060</td>\n",
              "      <td>1</td>\n",
              "      <td>0</td>\n",
              "      <td>0</td>\n",
              "      <td>1</td>\n",
              "      <td>0</td>\n",
              "      <td>0</td>\n",
              "      <td>0</td>\n",
              "    </tr>\n",
              "    <tr>\n",
              "      <th>10003</th>\n",
              "      <td>0.626033</td>\n",
              "      <td>0</td>\n",
              "      <td>0.027397</td>\n",
              "      <td>0.7</td>\n",
              "      <td>0.000000</td>\n",
              "      <td>1</td>\n",
              "      <td>0</td>\n",
              "      <td>0.644939</td>\n",
              "      <td>1</td>\n",
              "      <td>0</td>\n",
              "      <td>0</td>\n",
              "      <td>0</td>\n",
              "      <td>1</td>\n",
              "      <td>0</td>\n",
              "      <td>0</td>\n",
              "    </tr>\n",
              "    <tr>\n",
              "      <th>10004</th>\n",
              "      <td>0.677686</td>\n",
              "      <td>1</td>\n",
              "      <td>0.287671</td>\n",
              "      <td>0.4</td>\n",
              "      <td>0.819096</td>\n",
              "      <td>1</td>\n",
              "      <td>1</td>\n",
              "      <td>0.406481</td>\n",
              "      <td>1</td>\n",
              "      <td>0</td>\n",
              "      <td>0</td>\n",
              "      <td>1</td>\n",
              "      <td>0</td>\n",
              "      <td>0</td>\n",
              "      <td>0</td>\n",
              "    </tr>\n",
              "    <tr>\n",
              "      <th>10005</th>\n",
              "      <td>0.285124</td>\n",
              "      <td>1</td>\n",
              "      <td>0.136986</td>\n",
              "      <td>1.0</td>\n",
              "      <td>0.516695</td>\n",
              "      <td>1</td>\n",
              "      <td>1</td>\n",
              "      <td>0.939612</td>\n",
              "      <td>0</td>\n",
              "      <td>0</td>\n",
              "      <td>1</td>\n",
              "      <td>1</td>\n",
              "      <td>0</td>\n",
              "      <td>0</td>\n",
              "      <td>0</td>\n",
              "    </tr>\n",
              "    <tr>\n",
              "      <th>10006</th>\n",
              "      <td>0.847107</td>\n",
              "      <td>1</td>\n",
              "      <td>0.150685</td>\n",
              "      <td>0.4</td>\n",
              "      <td>0.000000</td>\n",
              "      <td>0</td>\n",
              "      <td>1</td>\n",
              "      <td>0.442330</td>\n",
              "      <td>1</td>\n",
              "      <td>0</td>\n",
              "      <td>0</td>\n",
              "      <td>0</td>\n",
              "      <td>1</td>\n",
              "      <td>0</td>\n",
              "      <td>0</td>\n",
              "    </tr>\n",
              "    <tr>\n",
              "      <th>10007</th>\n",
              "      <td>0.452479</td>\n",
              "      <td>1</td>\n",
              "      <td>0.095890</td>\n",
              "      <td>0.7</td>\n",
              "      <td>0.753124</td>\n",
              "      <td>1</td>\n",
              "      <td>1</td>\n",
              "      <td>0.198504</td>\n",
              "      <td>1</td>\n",
              "      <td>0</td>\n",
              "      <td>0</td>\n",
              "      <td>1</td>\n",
              "      <td>0</td>\n",
              "      <td>0</td>\n",
              "      <td>0</td>\n",
              "    </tr>\n",
              "    <tr>\n",
              "      <th>10008</th>\n",
              "      <td>0.588843</td>\n",
              "      <td>1</td>\n",
              "      <td>0.082192</td>\n",
              "      <td>0.5</td>\n",
              "      <td>0.749266</td>\n",
              "      <td>1</td>\n",
              "      <td>1</td>\n",
              "      <td>0.807417</td>\n",
              "      <td>0</td>\n",
              "      <td>1</td>\n",
              "      <td>0</td>\n",
              "      <td>1</td>\n",
              "      <td>0</td>\n",
              "      <td>0</td>\n",
              "      <td>0</td>\n",
              "    </tr>\n",
              "    <tr>\n",
              "      <th>10009</th>\n",
              "      <td>0.632231</td>\n",
              "      <td>1</td>\n",
              "      <td>0.369863</td>\n",
              "      <td>0.7</td>\n",
              "      <td>0.000000</td>\n",
              "      <td>0</td>\n",
              "      <td>0</td>\n",
              "      <td>0.872331</td>\n",
              "      <td>1</td>\n",
              "      <td>0</td>\n",
              "      <td>0</td>\n",
              "      <td>0</td>\n",
              "      <td>1</td>\n",
              "      <td>0</td>\n",
              "      <td>0</td>\n",
              "    </tr>\n",
              "    <tr>\n",
              "      <th>10010</th>\n",
              "      <td>0.332645</td>\n",
              "      <td>1</td>\n",
              "      <td>0.068493</td>\n",
              "      <td>0.8</td>\n",
              "      <td>0.000000</td>\n",
              "      <td>1</td>\n",
              "      <td>0</td>\n",
              "      <td>0.382889</td>\n",
              "      <td>1</td>\n",
              "      <td>0</td>\n",
              "      <td>0</td>\n",
              "      <td>0</td>\n",
              "      <td>1</td>\n",
              "      <td>0</td>\n",
              "      <td>0</td>\n",
              "    </tr>\n",
              "  </tbody>\n",
              "</table>\n",
              "</div>"
            ],
            "text/plain": [
              "           CreditScore  Gender  ...  NumOfProducts_3  NumOfProducts_4\n",
              "RowNumber                       ...                                  \n",
              "10001         0.411157       1  ...                0                0\n",
              "10002         0.419421       1  ...                0                0\n",
              "10003         0.626033       0  ...                0                0\n",
              "10004         0.677686       1  ...                0                0\n",
              "10005         0.285124       1  ...                0                0\n",
              "10006         0.847107       1  ...                0                0\n",
              "10007         0.452479       1  ...                0                0\n",
              "10008         0.588843       1  ...                0                0\n",
              "10009         0.632231       1  ...                0                0\n",
              "10010         0.332645       1  ...                0                0\n",
              "\n",
              "[10 rows x 15 columns]"
            ]
          },
          "metadata": {},
          "execution_count": 44
        }
      ]
    },
    {
      "cell_type": "code",
      "metadata": {
        "id": "VIn7a6llLBhD"
      },
      "source": [
        "predictedValues = xgb_otm.predict(teste_tratados)"
      ],
      "execution_count": 46,
      "outputs": []
    },
    {
      "cell_type": "code",
      "metadata": {
        "id": "bccet0jmUNe5"
      },
      "source": [
        "df_final = pd.DataFrame(predictedValues, columns=['predictedValues'])\n",
        "df_final.index.name = 'RowNumber'"
      ],
      "execution_count": 56,
      "outputs": []
    },
    {
      "cell_type": "code",
      "metadata": {
        "id": "Nwa14DaCW2_W"
      },
      "source": [
        "from google.colab import drive"
      ],
      "execution_count": 57,
      "outputs": []
    },
    {
      "cell_type": "code",
      "metadata": {
        "colab": {
          "base_uri": "https://localhost:8080/"
        },
        "id": "GaLbecpOW85O",
        "outputId": "1de493a4-8288-444e-bb23-0b1ee0e48a8f"
      },
      "source": [
        "drive.mount('/drive')"
      ],
      "execution_count": 58,
      "outputs": [
        {
          "output_type": "stream",
          "name": "stdout",
          "text": [
            "Mounted at /drive\n"
          ]
        }
      ]
    },
    {
      "cell_type": "code",
      "metadata": {
        "id": "VvtaxoKWXIeO"
      },
      "source": [
        "df_final.to_csv('/drive/My Drive/Arquivos google colab/modelo_predicao.csv')"
      ],
      "execution_count": 60,
      "outputs": []
    }
  ]
}
